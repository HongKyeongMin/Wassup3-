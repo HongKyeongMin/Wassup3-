


scores = [8.8, 8.9, 8.7, 9.2, 9.3, 9.7, 9.9, 9.5, 7.8, 9.4]
a,b,*valid_score = scores
print(valid_score)



ice = {'메로나':'1000', '폴라포':'1200','빵빠레':'1800'}
print(ice)


ice['죠스바'] = '1200'
ice['월드콘'] = '1500'
ice


del ice['메로나']
ice


inventory = {'메로나':[300,20], '비비빅':[400,3], '죠스바': [250,100]}
print(inventory)


print(inventory['메로나'][0])


inventory['월드콘'] = [500,7]
inventory


icecream = {'탱크보이': 1200, '폴라포': 1200, '빵빠레': 1800, '월드콘': 1500, '메로나': 1000}


print(icecream.values())





print(3==5)


print ((3 == 3) and (4 != 3))


print(input()*2)



print(int(input("숫자를 입력하세요 :    "))+10)




if int(input())/2 ==0 :
    print("짝수")
else :
    print("홀수")


time = input("시간은? :")
if time[-2:]=='00':
    print('정각')
else : 
    print('정각이 아닙니다')


fruit = ["사과", "포도", "홍시"]
if '사과' in fruit :
    print('정답')
else :
    print('오답')


fruit = {"봄" : "딸기", "여름" : "토마토", "가을" : "사과"}
user = input("좋아하는 과일?")

if user in fruit.keys():
    print('정답')
else :
    print('오답')


# 다시풀어보기
user = input("문자를 입력해라")

if user.islower() :
    print(user.upper())
else :
    print(user.lower())



















