


money = True
if money:
    print("택시를 타고 가라")
else:
    print("걸어 가라")


money = False
if money:
    print("택시를 타고 가라")
else:
    print("걸어 가라")


money = True
if money:
    print("택시를")
    print("타고")
    print("가라")





x=3
y=2
x>y


x !=y


# 돈이 3000원 이상 있거나 카드가 있다면 택시를 타고 가고, 그렇지 않으면 걸어가라.


money = 4000
if money >= 3000 :
    print("택시를 타고가라")
else :
    print("걸어가라")



money = 5000
card = True
if money >= 3000 or card:
     print("택시를 타고 가라")
else:
     print("걸어가라")





1 in [1,2,3]


4 in [1,2,3]


pocket = ['key', 'notebook', 'money']
if 'money' in pocket :
    print('택시를 타고가라')
else :
    print('걸어가라')





pocket = ['paper', 'money', 'cellphone']
if 'money' in pocket:
     pass 
else:
     print("카드를 꺼내라")





#주머니에 돈이 있으면 택시를 타고 가고, 주머니에 돈은 없지만 카드가 있으면 택시를 타고 가고, 돈도 없고 카드도 없으면 걸어가라.


pocket = ['paper', 'money', 'cellphone']
card = True

if 'money' in pocket:
    print('택시를 타고가라') 
else:
     if card :
         print("카드로 택시를 타라")
     else :
         print('걸어가라')


# 조건부 표현식


score = 88
if score >= 60:
    message = "success"
else:
    message = "failure"
print(message)


message = "success" if score>= 60 else "failure"
print(message)








treeHit = 0
while treeHit < 10:
      treeHit = treeHit +1
      print("나무를 %d번 찍었습니다." % treeHit)
      if treeHit == 10:
         print("나무 넘어갑니다.")





prompt = """
1. ADD
2. DELETE
3. LIST
4. QUIT
Enter number : ****
"""


print(prompt)


number = 0
while number != 4:
    print(prompt)
    number = int(input())





coffee = 10
money = 300
while money :
    print("돈을 받았으니 커피를 줍니다.")
    coffee = coffee-1
    print("남은 커피의 양은 %d 입니다" %coffee)
    if coffee == 0 :
        print("커피가 다 떨어졌습니다. 판매를 중지합니다.")
        break





coffee = 10
while True : 
    money = int(input("돈을 넣어주세요 : "))
    if money == 300 :
        print("커피를 줍니다.")
        coffee= coffee-1
    elif money >= 300 :
        print("거스름돈 %원을 주고, 커피를 줍니다."% (money-300))
        coffee = coffee -1
    else:
        print("돈을 다시 돌려주고, 커피를 주지 않습니다.")
        print("남은 양은 %d 개입니다" % coffee)
    if coffee == 0 :
        print("커피가 다 떨어졌습니다. 판매를 중지합니다.")
        break
























