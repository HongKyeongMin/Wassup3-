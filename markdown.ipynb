{
 "cells": [
  {
   "cell_type": "markdown",
   "id": "6eb3a399",
   "metadata": {
    "id": "6eb3a399"
   },
   "source": [
    "[공통] 마크다운 markdown 작성법\n",
    "======================"
   ]
  },
  {
   "cell_type": "markdown",
   "id": "7418f77b",
   "metadata": {
    "id": "7418f77b"
   },
   "source": [
    "> 영어지만, 조금 더 상세하게 마크다운 사용법을 안내하고 있는    \n",
    "> \"Markdown Guide (https://www.markdownguide.org/)\" 를 보시는 것을 추천합니다. ^^\n",
    "\n",
    "> 아, 그리고 마크다운만으로 표현이 부족하다고 느끼신다면, HTML 태그를 활용하시는 것도 좋습니다."
   ]
  },
  {
   "cell_type": "markdown",
   "id": "b91cc751",
   "metadata": {
    "id": "b91cc751"
   },
   "source": [
    "# 마크다운에 관하여\n",
    "## 마크다운이란?\n",
    "[**Markdown**](https://www.markdownguide.org/getting-started/)은 텍스트 기반의 마크업언어로 2004년 존그루버에 의해 만들어졌으며 쉽게 쓰고 읽을 수 있으며 HTML로 변환이 가능하다. 특수기호와 문자를 이용한 매우 간단한 구조의 문법을 사용하여 웹에서도 보다 빠르게 컨텐츠를 작성하고 보다 직관적으로 인식할 수 있다.\n",
    "마크다운이 최근 각광받기 시작한 이유는 깃헙([https://github.com](https://github.com)) 덕분이다. 깃헙의 저장소Repository에 관한 정보를 기록하는 README.md는 깃헙을 사용하는 사람이라면 누구나 가장 먼저 접하게 되는 마크다운 문서였다. 마크다운을 통해서 설치방법, 소스코드 설명, 이슈 등을 간단하게 기록하고 가독성을 높일 수 있다는 강점이 부각되면서 점점 여러 곳으로 퍼져가게 된다."
   ]
  },
  {
   "cell_type": "markdown",
   "id": "52bee78f",
   "metadata": {
    "id": "52bee78f"
   },
   "source": [
    "## 마크다운의 장-단점\n",
    "### 장점\n",
    "\t1. 간결하다.\n",
    "\t2. 별도의 도구없이 작성가능하다.\n",
    "\t3. 다양한 형태로 변환이 가능하다.\n",
    "\t4. 텍스트(Text)로 저장되기 때문에 용량이 적어 보관이 용이하다.\n",
    "\t5. 텍스트파일이기 때문에 버전관리시스템을 이용하여 변경이력을 관리할 수 있다.\n",
    "\t6. 지원하는 프로그램과 플랫폼이 다양하다."
   ]
  },
  {
   "cell_type": "markdown",
   "id": "df062fba",
   "metadata": {
    "id": "df062fba"
   },
   "source": [
    "### 단점\n",
    "\t1. 표준이 없다.\n",
    "\t2. 표준이 없기 때문에 도구에 따라서 변환방식이나 생성물이 다르다.\n",
    "\t3. 모든 HTML 마크업을 대신하지 못한다."
   ]
  },
  {
   "cell_type": "markdown",
   "id": "f529052c",
   "metadata": {
    "id": "f529052c"
   },
   "source": [
    "****\n",
    "# 마크다운 사용법(문법)"
   ]
  },
  {
   "cell_type": "markdown",
   "id": "0f2a2101",
   "metadata": {
    "id": "0f2a2101"
   },
   "source": [
    "## 헤더Headers\n",
    "* 큰제목: 문서 제목\n",
    "    ```\n",
    "    This is an H1\n",
    "    =============\n",
    "    ```    "
   ]
  },
  {
   "cell_type": "markdown",
   "id": "7dc2d1c1-0e6f-453a-ab81-0b81e2c6f772",
   "metadata": {
    "id": "9e17c2ce"
   },
   "source": [
    "this is an H1\n",
    "---------------"
   ]
  },
  {
   "cell_type": "markdown",
   "id": "e1508f8b",
   "metadata": {
    "id": "e1508f8b"
   },
   "source": [
    "* 작은제목: 문서 부제목\n",
    "    ```\n",
    "    This is an H2\n",
    "    -------------\n",
    "    ```"
   ]
  },
  {
   "cell_type": "markdown",
   "id": "11898d5e-61c5-4f71-8c6c-84c6494130a6",
   "metadata": {
    "id": "c0896897"
   },
   "source": [
    "this is an H2\n",
    "-------------"
   ]
  },
  {
   "cell_type": "markdown",
   "id": "82ccde72",
   "metadata": {
    "id": "82ccde72"
   },
   "source": [
    "* 글머리: 1~6까지만 지원\n",
    "```\n",
    "# This is a H1\n",
    "## This is a H2\n",
    "### This is a H3\n",
    "#### This is a H4\n",
    "##### This is a H5\n",
    "###### This is a H6\n",
    "```"
   ]
  },
  {
   "cell_type": "markdown",
   "id": "b02d8671-3f41-4f88-90db-a7fd82d8aa79",
   "metadata": {
    "id": "8ce8c928"
   },
   "source": [
    "# This is a H1\n",
    "## This is a H2\n",
    "### This is a H3\n",
    "#### This is a H4\n",
    "##### This is a H5\n",
    "###### This is a H6"
   ]
  },
  {
   "cell_type": "markdown",
   "id": "32662848",
   "metadata": {
    "id": "32662848"
   },
   "source": [
    "## BlockQuote\n",
    "이메일에서 사용하는 ```>``` 블럭인용문자를 이용한다.\n",
    "```\n",
    "> This is a first blockqute.\n",
    ">\t> This is a second blockqute.\n",
    ">\t>\t> This is a third blockqute.\n",
    "```"
   ]
  },
  {
   "cell_type": "markdown",
   "id": "78573856-aac1-48e9-9b70-7f13a8bc4721",
   "metadata": {
    "id": "4facc1d7"
   },
   "source": [
    "> This is a first blockqute.\r\n",
    ">\t> This is a second blockqute.\r\n",
    ">\t>\t> This is a third blockqute."
   ]
  },
  {
   "cell_type": "markdown",
   "id": "8ba88720",
   "metadata": {
    "id": "8ba88720"
   },
   "source": [
    "이 안에서는 다른 마크다운 요소를 포함할 수 있다.\n",
    "> ### This is a H3\n",
    "> * List\n",
    ">\t```\n",
    ">\tcode\n",
    ">\t```"
   ]
  },
  {
   "cell_type": "markdown",
   "id": "33b9d356-556c-4efc-89f8-ea0144b8ee9c",
   "metadata": {
    "id": "5b6bdf82"
   },
   "source": [
    "> ### This is a H3\n",
    ">   > *list\n",
    ">code"
   ]
  },
  {
   "cell_type": "markdown",
   "id": "324b0d35",
   "metadata": {
    "id": "324b0d35"
   },
   "source": [
    "## 목록\n",
    "### ● 순서있는 목록(번호)\n",
    "순서있는 목록은 숫자와 점을 사용한다.\n",
    "```\n",
    "1. 첫번째\n",
    "2. 두번째\n",
    "3. 세번째\n",
    "```"
   ]
  },
  {
   "cell_type": "markdown",
   "id": "d55d7aa7-87a6-4f3f-a740-516cbe42d91c",
   "metadata": {
    "id": "94159d31"
   },
   "source": [
    "1. 첫번째\n",
    "2. 두번째\n",
    "3. 세번째"
   ]
  },
  {
   "cell_type": "markdown",
   "id": "8aa4ea17",
   "metadata": {
    "id": "8aa4ea17"
   },
   "source": [
    "**현재까지는 어떤 번호를 입력해도 순서는 내림차순으로 정의된다.**\n",
    "```\n",
    "1. 첫번째\n",
    "3. 세번째\n",
    "2. 두번째\n",
    "```\n",
    "딱히 개선될 것 같지는 않다. 존 그루버가 신경안쓰고 있다고..."
   ]
  },
  {
   "cell_type": "code",
   "execution_count": null,
   "id": "4df5ea36",
   "metadata": {
    "id": "4df5ea36"
   },
   "outputs": [],
   "source": []
  },
  {
   "cell_type": "markdown",
   "id": "f13ae310",
   "metadata": {
    "id": "f13ae310"
   },
   "source": [
    "### ● 순서없는 목록(글머리 기호: `*`, `+`, `-` 지원)\n",
    "```\n",
    "* 빨강\n",
    "  * 녹색\n",
    "    * 파랑\n",
    "\n",
    "+ 빨강\n",
    "  + 녹색\n",
    "    + 파랑\n",
    "\n",
    "- 빨강\n",
    "  - 녹색\n",
    "    - 파랑\n",
    "```"
   ]
  },
  {
   "cell_type": "markdown",
   "id": "c21b1dcc-0774-4734-b076-4f37a46f2334",
   "metadata": {
    "id": "366e5292"
   },
   "source": [
    "* 빨강\r\n",
    "  * 녹색\r\n",
    "    * 파랑\r\n",
    "\r\n",
    "+ 빨강\r\n",
    "  + 녹색\r\n",
    "    + 파랑\r\n",
    "\r\n",
    "- 빨강\r\n",
    "  - 녹색\r\n",
    "    - 파랑"
   ]
  },
  {
   "cell_type": "markdown",
   "id": "4d4d8af3",
   "metadata": {
    "id": "4d4d8af3"
   },
   "source": [
    "혼합해서 사용하는 것도 가능하다(내가 선호하는 방식)\n",
    "```\n",
    "* 1단계\n",
    "  - 2단계\n",
    "    + 3단계\n",
    "      + 4단계\n",
    "```"
   ]
  },
  {
   "cell_type": "markdown",
   "id": "f0302249-a64e-4dcb-b14f-11c350c8ea01",
   "metadata": {},
   "source": [
    "* 1단계\n",
    "  - 2단계\n",
    "    + 3단계\n",
    "      + 4단계"
   ]
  },
  {
   "cell_type": "code",
   "execution_count": null,
   "id": "7b1e982d-e7bf-4e8e-be7a-d6b1acc3ab6b",
   "metadata": {},
   "outputs": [],
   "source": []
  },
  {
   "cell_type": "code",
   "execution_count": null,
   "id": "0ef5f5fc-8c30-4ac3-9252-03f7e1b964ff",
   "metadata": {},
   "outputs": [],
   "source": []
  },
  {
   "cell_type": "code",
   "execution_count": null,
   "id": "94e9e974-04ba-4360-86a2-9dabfbf7493a",
   "metadata": {},
   "outputs": [],
   "source": []
  },
  {
   "cell_type": "markdown",
   "id": "8b9f2b4c",
   "metadata": {
    "id": "8b9f2b4c"
   },
   "source": [
    "## 코드\n",
    "4개의 공백 또는 하나의 탭으로 들여쓰기를 만나면 변환되기 시작하여 들여쓰지 않은 행을 만날때까지 변환이 계속된다.\n",
    "\n",
    "### 들여쓰기\n",
    "```\n",
    "This is a normal paragraph:\n",
    "\n",
    "    This is a code block.\n",
    "    \n",
    "end code block.\n",
    "```"
   ]
  },
  {
   "cell_type": "markdown",
   "id": "2c876f2c",
   "metadata": {
    "id": "2c876f2c"
   },
   "source": [
    "실제로 적용해보면,\n",
    "\n",
    "적용예:\n",
    "\n",
    "*****\n",
    "This is a normal paragraph:\n",
    "\n",
    "    This is a code block.\n",
    "\n",
    "end code block.\n",
    "*****"
   ]
  },
  {
   "cell_type": "markdown",
   "id": "d17dbf47-a61f-4c0c-96ac-d03baeb07a3d",
   "metadata": {
    "id": "3977da6e"
   },
   "source": [
    "This is a normal paragraph:\n",
    "\n",
    "     This is a code block.\n",
    "    \n",
    "end code block."
   ]
  },
  {
   "cell_type": "markdown",
   "id": "89085d5b",
   "metadata": {
    "id": "89085d5b"
   },
   "source": [
    "> 한줄 띄어쓰지 않으면 인식이 제대로 안되는 문제가 발생합니다.\n",
    "\n",
    "```\n",
    "This is a normal paragraph:\n",
    "    This is a code block.\n",
    "end code block.\n",
    "```\n",
    "\n",
    "적용예:\n",
    "\n",
    "*****\n",
    "This is a normal paragraph:\n",
    "    This is a code block.\n",
    "end code block.\n",
    "*****"
   ]
  },
  {
   "cell_type": "code",
   "execution_count": null,
   "id": "c59b22fe",
   "metadata": {
    "id": "c59b22fe"
   },
   "outputs": [],
   "source": []
  },
  {
   "cell_type": "markdown",
   "id": "a802ec0d",
   "metadata": {
    "id": "a802ec0d"
   },
   "source": [
    "### 코드블럭\n",
    "코드블럭은 다음과 같이 2가지 방식을 사용할 수 있습니다:\n",
    "\n",
    "* `<pre><code>{code}</code></pre>` 이용방식\n",
    "\n",
    "```\n",
    "<pre>\n",
    "<code>\n",
    "public class BootSpringBootApplication {\n",
    "  public static void main(String[] args) {\n",
    "    System.out.println(\"Hello, Honeymon\");\n",
    "  }\n",
    "\n",
    "}\n",
    "</code>\n",
    "</pre>\n",
    "```"
   ]
  },
  {
   "cell_type": "markdown",
   "id": "73b45c39-4563-4099-8108-5ddd65b0d58e",
   "metadata": {
    "id": "847a8c05"
   },
   "source": []
  },
  {
   "cell_type": "markdown",
   "id": "b2335af2",
   "metadata": {
    "id": "b2335af2"
   },
   "source": [
    "* 코드블럭코드(\"\\```\") 을 이용하는 방법\n",
    "\n",
    "```\n",
    "public class BootSpringBootApplication {\n",
    "  public static void main(String[] args) {\n",
    "    System.out.println(\"Hello, Honeymon\");\n",
    "  }\n",
    "}\n",
    "```\n"
   ]
  },
  {
   "cell_type": "markdown",
   "id": "9404d2a0-bc44-4d2f-82d5-eb617b3daee1",
   "metadata": {
    "id": "03f7529e"
   },
   "source": [
    "```\n",
    "public class BootSpringBootApplication {\n",
    "  public static void main(String[] args) {\n",
    "    System.out.println(\"Hello, Honeymon\");\n",
    "  }\n",
    "}\n",
    "```"
   ]
  },
  {
   "cell_type": "markdown",
   "id": "2b7ac88a",
   "metadata": {
    "id": "2b7ac88a"
   },
   "source": [
    "**깃헙**에서는 코드블럭코드(\"\\```\") 시작점에 사용하는 언어를 선언하여 [문법강조(Syntax highlighting)](https://docs.github.com/en/github/writing-on-github/creating-and-highlighting-code-blocks#syntax-highlighting)이 가능하다.\n",
    "```java\n",
    "public class BootSpringBootApplication {\n",
    "  public static void main(String[] args) {\n",
    "    System.out.println(\"Hello, Honeymon\");\n",
    "  }\n",
    "}\n",
    "```"
   ]
  },
  {
   "cell_type": "markdown",
   "id": "3b8b6c9d-8c51-4d9f-8f06-d650ab984da4",
   "metadata": {
    "id": "54b3b026"
   },
   "source": [
    "```java\n",
    "public class BootSpringBootApplication {\n",
    "  public static void main(String[] args) {\n",
    "    System.out.println(\"Hello, Honeymon\");\n",
    "  }\n",
    "}\n",
    "```"
   ]
  },
  {
   "cell_type": "markdown",
   "id": "383ba082",
   "metadata": {
    "id": "383ba082"
   },
   "source": [
    "## 수평선\n",
    "아래 줄은 모두 수평선을 만든다. 마크다운 문서를 미리보기로 출력할 때 *페이지 나누기* 용도로 많이 사용한다.\n",
    "\n",
    "```\n",
    "* * *\n",
    "\n",
    "***\n",
    "\n",
    "*****\n",
    "\n",
    "- - -\n",
    "\n",
    "---------------------------------------\n",
    "```"
   ]
  },
  {
   "cell_type": "markdown",
   "id": "fee2b27e-ae03-4cbe-8578-8fec7a6c557a",
   "metadata": {
    "id": "595b4ec3"
   },
   "source": [
    "* * *"
   ]
  },
  {
   "cell_type": "raw",
   "id": "9553f4de-c5c3-474e-a0b3-415f25cb0265",
   "metadata": {},
   "source": [
    "****"
   ]
  },
  {
   "cell_type": "markdown",
   "id": "82267795-a787-4bc6-b836-6dc602553a7c",
   "metadata": {},
   "source": [
    "- - - "
   ]
  },
  {
   "cell_type": "markdown",
   "id": "e2c2c85f-f803-49a5-b722-f61779a82e54",
   "metadata": {},
   "source": [
    "-------------"
   ]
  },
  {
   "cell_type": "code",
   "execution_count": null,
   "id": "08b4c817-0082-4999-a463-b5adfef467b0",
   "metadata": {},
   "outputs": [],
   "source": []
  },
  {
   "cell_type": "code",
   "execution_count": null,
   "id": "563b57ac-ddf1-41eb-b3aa-b552c6d025f5",
   "metadata": {},
   "outputs": [],
   "source": []
  },
  {
   "cell_type": "markdown",
   "id": "2b68ac1a",
   "metadata": {
    "id": "2b68ac1a"
   },
   "source": [
    "## 링크\n",
    "* 참조링크\n",
    "\n",
    "```\n",
    "[link keyword][id]\n",
    "\n",
    "[id]: URL \"Optional Title here\"\n",
    "\n",
    "// code\n",
    "Link: [Google][googlelink]\n",
    "\n",
    "[googlelink]: https://google.com \"Go google\"\n",
    "```"
   ]
  },
  {
   "cell_type": "markdown",
   "id": "e0aa9218-57f9-4731-a73c-4a26803275e2",
   "metadata": {
    "id": "799de18d"
   },
   "source": [
    "e\""
   ]
  },
  {
   "cell_type": "markdown",
   "id": "477f50c0",
   "metadata": {
    "id": "477f50c0"
   },
   "source": [
    "* 외부링크\n",
    "```\n",
    "사용문법: [Title](link)\n",
    "적용예: [Google](https://google.com \"google link\") # 쉼표를 주소로 인식하는 오류 주의\n",
    "```"
   ]
  },
  {
   "cell_type": "markdown",
   "id": "599462a8-7a97-42f8-a144-f8dfc986c625",
   "metadata": {
    "id": "954b6e5e"
   },
   "source": []
  },
  {
   "cell_type": "markdown",
   "id": "72d3745b",
   "metadata": {
    "id": "72d3745b"
   },
   "source": [
    "* 자동연결\n",
    "```\n",
    "일반적인 URL 혹은 이메일주소인 경우 적절한 형식으로 링크를 형성한다.\n",
    "\n",
    "* 외부링크: <http://example.com/>\n",
    "* 이메일링크: <address@example.com>\n",
    "```"
   ]
  },
  {
   "cell_type": "code",
   "execution_count": null,
   "id": "c8f9352b",
   "metadata": {
    "id": "c8f9352b"
   },
   "outputs": [],
   "source": []
  },
  {
   "cell_type": "markdown",
   "id": "9c503991",
   "metadata": {
    "id": "9c503991"
   },
   "source": [
    "## 2.7. 강조\n",
    "```\n",
    "*single asterisks*\n",
    "_single underscores_\n",
    "**double asterisks**\n",
    "__double underscores__\n",
    "~~cancelline~~\n",
    "```"
   ]
  },
  {
   "cell_type": "markdown",
   "id": "78017182-664d-4a3e-95cd-ee60015d4a25",
   "metadata": {
    "id": "fa362d24"
   },
   "source": [
    "*single asterisks*"
   ]
  },
  {
   "cell_type": "markdown",
   "id": "de474600-45b2-4f98-b5f6-889d78af97f0",
   "metadata": {},
   "source": [
    "_test_"
   ]
  },
  {
   "cell_type": "markdown",
   "id": "cdf75a66-e45e-4435-b2da-6cba3f62720f",
   "metadata": {},
   "source": [
    "**test**   __double__"
   ]
  },
  {
   "cell_type": "markdown",
   "id": "50835ddd-4e54-45e8-ab70-699fa37ebb59",
   "metadata": {},
   "source": []
  },
  {
   "cell_type": "markdown",
   "id": "10623985",
   "metadata": {
    "id": "10623985"
   },
   "source": [
    "> ```문장 중간에 사용할 경우에는 **띄어쓰기** 를 사용하는 것이 좋다.```   \n",
    "> 문장 중간에 사용할 경우에는 띄어쓰기를 사용하는 것이 좋다."
   ]
  },
  {
   "cell_type": "code",
   "execution_count": null,
   "id": "aeb219d6",
   "metadata": {
    "id": "aeb219d6"
   },
   "outputs": [],
   "source": []
  },
  {
   "cell_type": "markdown",
   "id": "87ff90be",
   "metadata": {
    "id": "87ff90be"
   },
   "source": [
    "## 이미지\n",
    "```\n",
    "# 마크다운 안에 삽입\n",
    "![Alt text](/path/to/img.jpg)\n",
    "![Alt text](/path/to/img.jpg \"Optional title\")\n",
    "# 코드블럭에 삽입\n",
    "![image.png](attachment:image.png)\n",
    "```\n",
    "\n",
    "![석촌호수 러버덕](http://cfile6.uf.tistory.com/image/2426E646543C9B4532C7B0)\n",
    "![석촌호수 러버덕](http://cfile6.uf.tistory.com/image/2426E646543C9B4532C7B0 \"RubberDuck\")"
   ]
  },
  {
   "cell_type": "markdown",
   "id": "efe1d6fc-ae8c-44f4-829e-3083eb3e81fa",
   "metadata": {
    "id": "40b580d9"
   },
   "source": [
    "[profile](/path/to/profile.jpg)\n",
    "[profile](/path/to/profile.jpg \"profile image\")"
   ]
  },
  {
   "cell_type": "markdown",
   "id": "f9d46842",
   "metadata": {
    "id": "f9d46842"
   },
   "source": [
    "사이즈 조절 기능은 없기 때문에 ```<img width=\"\" height=\"\"></img>```를 이용한다.\n",
    "\n",
    "예\n",
    "```\n",
    "<img src=\"/path/to/img.jpg\" width=\"450px\" height=\"300px\" title=\"px(픽셀) 크기 설정\" alt=\"RubberDuck\"></img><br/>\n",
    "<img src=\"/path/to/img.jpg\" width=\"40%\" height=\"30%\" title=\"px(픽셀) 크기 설정\" alt=\"RubberDuck\"></img>\n",
    "```\n",
    "\n",
    "<img src=\"http://cfile6.uf.tistory.com/image/2426E646543C9B4532C7B0\" width=\"450px\" height=\"300px\" title=\"px(픽셀) 크기 설정\" alt=\"RubberDuck\"></img><br/>\n",
    "<img src=\"http://cfile6.uf.tistory.com/image/2426E646543C9B4532C7B0\" width=\"40%\" height=\"30%\" title=\"%(비율) 크기 설정\" alt=\"RubberDuck\"></img>"
   ]
  },
  {
   "cell_type": "code",
   "execution_count": null,
   "id": "d63eaa67",
   "metadata": {
    "id": "d63eaa67"
   },
   "outputs": [],
   "source": [
    "\"C:\\workspace\\KakaoTalk_20240516_173409140.jpg\""
   ]
  },
  {
   "cell_type": "markdown",
   "id": "1a929d99",
   "metadata": {
    "id": "1a929d99"
   },
   "source": [
    "## 줄바꿈\n",
    "```\n",
    "* 줄 바꿈을 하기 위해서는 문장 마지막에서 3칸이상을 띄어쓰기해야 한다.\n",
    "이렇게\n",
    "\n",
    "* 줄 바꿈을 하기 위해서는 문장 마지막에서 3칸이상을 띄어쓰기해야 한다.___\\\\ 띄어쓰기\n",
    "이렇게\n",
    "```"
   ]
  },
  {
   "cell_type": "code",
   "execution_count": null,
   "id": "a6054667",
   "metadata": {
    "id": "a6054667"
   },
   "outputs": [],
   "source": []
  },
  {
   "cell_type": "markdown",
   "id": "dd6d2afd",
   "metadata": {
    "id": "dd6d2afd"
   },
   "source": [
    "## 테이블"
   ]
  },
  {
   "cell_type": "markdown",
   "id": "016a44ca",
   "metadata": {
    "id": "016a44ca"
   },
   "source": [
    "### 일반적인 표\n",
    "\n",
    "문자와 — 문자로 표를 만들 수 있습니다.\n",
    "```\n",
    "|제목|내용|설명|\n",
    "|------|---|---|\n",
    "|테스트1|테스트2|테스트3|\n",
    "|테스트1|테스트2|테스트3|\n",
    "|테스트1|테스트2|테스트3|\n",
    "```"
   ]
  },
  {
   "cell_type": "markdown",
   "id": "c23a8292-b4dc-40e3-88bb-49878890470c",
   "metadata": {
    "executionInfo": {
     "elapsed": 3,
     "status": "ok",
     "timestamp": 1700617950330,
     "user": {
      "displayName": "Seunghye Kim",
      "userId": "03123368174336215832"
     },
     "user_tz": -540
    },
    "id": "a3467ca3"
   },
   "source": [
    "|제목|내용|설명|\n",
    "|------|---|---|\n",
    "|테스트1|테스트2|테스트3|\n",
    "|테스트1|테스트2|테스트3|\n",
    "|테스트1|테스트2|테스트3|"
   ]
  },
  {
   "cell_type": "markdown",
   "id": "08613f3a",
   "metadata": {
    "id": "08613f3a"
   },
   "source": [
    "### 정렬\n",
    ": 문자로 정렬을 정의할 수 있습니다.\n",
    "```\n",
    "|제목|내용|설명|\n",
    "|:---|---:|:---:|\n",
    "|왼쪽정렬|오른쪽정렬|중앙정렬|\n",
    "|왼쪽정렬|오른쪽정렬|중앙정렬|\n",
    "|왼쪽정렬|오른쪽정렬|중앙정렬|\n",
    "```"
   ]
  },
  {
   "cell_type": "markdown",
   "id": "b87631ef-0002-4281-9b1b-64349e04efb8",
   "metadata": {
    "id": "96585085"
   },
   "source": [
    "|제목|내용|설명|\n",
    "|:---|---:|:---:|\n",
    "|왼쪽정렬|오른쪽정렬|중앙정렬|\n",
    "|왼쪽정렬|오른쪽정렬|중앙정렬|\n",
    "|왼쪽정렬|오른쪽정렬|중앙정렬|"
   ]
  },
  {
   "cell_type": "markdown",
   "id": "2420807a",
   "metadata": {
    "id": "2420807a"
   },
   "source": [
    "### 셀 확장\n",
    "사이가 비어있으면 자동 확장됩니다.\n",
    "```\n",
    "|제목|내용|설명|\n",
    "|:---|:---:|---:|\n",
    "||중앙에서확장||\n",
    "|||오른쪽에서 확장|\n",
    "|왼쪽에서확장||\n",
    "```"
   ]
  },
  {
   "cell_type": "markdown",
   "id": "8e5b8797-61ff-4288-9507-28ed67e30948",
   "metadata": {
    "id": "1e41e289"
   },
   "source": [
    "|제목|내용|설명|\n",
    "|:---|:---:|---:|\n",
    "||중앙에서확장||\n",
    "|||오른쪽에서 확장|\n",
    "|왼쪽에서확장||"
   ]
  },
  {
   "cell_type": "markdown",
   "id": "030c56ab",
   "metadata": {
    "id": "030c56ab"
   },
   "source": [
    "### 셀 강조\n",
    "일반적인 text와 마찬가지로 * 와 ** 를 통해 이탤릭/강조를 표시할 수 있습니다. span tag를 사용하면 컬러도 표시할 수 있습니다.\n",
    "```\n",
    "|제목|내용|설명|\n",
    "|---|---|---|\n",
    "|테스트1|*강조1*|테스트3|\n",
    "|테스트1|**강조2**|테스트3|\n",
    "|테스트1|<span style=\"color:red\">강조3</span>|테스트3|\n",
    "```"
   ]
  },
  {
   "cell_type": "markdown",
   "id": "b7ccb47c-54ed-4399-b73f-7772695a4a93",
   "metadata": {
    "id": "623c0509"
   },
   "source": [
    "|제목|내용|설명|\n",
    "|---|---|---|\n",
    "|테스트1|*강조1*|테스트3|\n",
    "|테스트1|**강조2**|테스트3|\n",
    "|테스트1|<span style=\"color:red\">강조3</span>|테스트3|"
   ]
  },
  {
   "cell_type": "markdown",
   "id": "57d175b2",
   "metadata": {
    "id": "57d175b2"
   },
   "source": [
    "#  수학 기호 LaTex표기법\n",
    "사칙연산, 분수, 제곱, 루트, 시그마, 로그, 행렬, 극한 등 수학 기호 및 수식 등 을 표현할 수 있다.\n",
    "[블로그 참고](https://velog.io/@d2h10s/LaTex-Markdown-%EC%88%98%EC%8B%9D-%EC%9E%91%EC%84%B1%EB%B2%95)"
   ]
  },
  {
   "cell_type": "markdown",
   "id": "47326dd0-85c4-4981-b03d-0c68e7d7e43d",
   "metadata": {
    "id": "5c7beefd"
   },
   "source": [
    "asin(bx+c)"
   ]
  }
 ],
 "metadata": {
  "colab": {
   "provenance": []
  },
  "kernelspec": {
   "display_name": "Python 3 (ipykernel)",
   "language": "python",
   "name": "python3"
  },
  "language_info": {
   "codemirror_mode": {
    "name": "ipython",
    "version": 3
   },
   "file_extension": ".py",
   "mimetype": "text/x-python",
   "name": "python",
   "nbconvert_exporter": "python",
   "pygments_lexer": "ipython3",
   "version": "3.11.7"
  },
  "toc": {
   "base_numbering": 1,
   "nav_menu": {},
   "number_sections": true,
   "sideBar": true,
   "skip_h1_title": false,
   "title_cell": "Table of Contents",
   "title_sidebar": "Contents",
   "toc_cell": false,
   "toc_position": {
    "height": "calc(100% - 180px)",
    "left": "10px",
    "top": "150px",
    "width": "307.2px"
   },
   "toc_section_display": true,
   "toc_window_display": false
  },
  "varInspector": {
   "cols": {
    "lenName": 16,
    "lenType": 16,
    "lenVar": 40
   },
   "kernels_config": {
    "python": {
     "delete_cmd_postfix": "",
     "delete_cmd_prefix": "del ",
     "library": "var_list.py",
     "varRefreshCmd": "print(var_dic_list())"
    },
    "r": {
     "delete_cmd_postfix": ") ",
     "delete_cmd_prefix": "rm(",
     "library": "var_list.r",
     "varRefreshCmd": "cat(var_dic_list()) "
    }
   },
   "types_to_exclude": [
    "module",
    "function",
    "builtin_function_or_method",
    "instance",
    "_Feature"
   ],
   "window_display": false
  }
 },
 "nbformat": 4,
 "nbformat_minor": 5
}
