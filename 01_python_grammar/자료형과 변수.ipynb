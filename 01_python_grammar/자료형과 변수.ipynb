{
 "cells": [
  {
   "cell_type": "markdown",
   "id": "64b55897-a998-4910-9401-893a20da7865",
   "metadata": {},
   "source": [
    "#h1 숫자 자료형"
   ]
  },
  {
   "cell_type": "code",
   "execution_count": 4,
   "id": "64c357dc-c5c3-4e86-a280-cce74d835ce5",
   "metadata": {},
   "outputs": [],
   "source": [
    "a=123"
   ]
  },
  {
   "cell_type": "code",
   "execution_count": 6,
   "id": "7a1f55b9-e30f-4e8e-a639-1fb2a2cf514b",
   "metadata": {},
   "outputs": [
    {
     "data": {
      "text/plain": [
       "123"
      ]
     },
     "execution_count": 6,
     "metadata": {},
     "output_type": "execute_result"
    }
   ],
   "source": [
    "a"
   ]
  },
  {
   "cell_type": "code",
   "execution_count": 7,
   "id": "f5b933a9-d020-41bf-92be-1f5a3b85160f",
   "metadata": {},
   "outputs": [],
   "source": [
    "a= -178"
   ]
  },
  {
   "cell_type": "code",
   "execution_count": 8,
   "id": "f7c4374a-a98f-4212-9600-1b852745441d",
   "metadata": {},
   "outputs": [
    {
     "data": {
      "text/plain": [
       "-178"
      ]
     },
     "execution_count": 8,
     "metadata": {},
     "output_type": "execute_result"
    }
   ],
   "source": [
    "a"
   ]
  },
  {
   "cell_type": "code",
   "execution_count": 10,
   "id": "65ead5bf-5a44-4504-8607-f605b9841ad0",
   "metadata": {},
   "outputs": [],
   "source": [
    "a= 4.24E10"
   ]
  },
  {
   "cell_type": "code",
   "execution_count": 11,
   "id": "6f520edc-475e-4e89-bfc1-67d0356c4b63",
   "metadata": {},
   "outputs": [
    {
     "data": {
      "text/plain": [
       "42400000000.0"
      ]
     },
     "execution_count": 11,
     "metadata": {},
     "output_type": "execute_result"
    }
   ],
   "source": [
    "a"
   ]
  },
  {
   "cell_type": "code",
   "execution_count": 12,
   "id": "26efda2e-7b60-4b69-badd-eef86bb8c80b",
   "metadata": {},
   "outputs": [
    {
     "data": {
      "text/plain": [
       "127"
      ]
     },
     "execution_count": 12,
     "metadata": {},
     "output_type": "execute_result"
    }
   ],
   "source": [
    "a= 0o177\n",
    "a"
   ]
  },
  {
   "cell_type": "markdown",
   "id": "8ea29ce0-248a-42b1-8266-84b0070bdf4c",
   "metadata": {},
   "source": [
    "#사칙연산"
   ]
  },
  {
   "cell_type": "code",
   "execution_count": 13,
   "id": "2a1a56e2-5a6d-4795-890e-4cb367fc1af6",
   "metadata": {},
   "outputs": [
    {
     "data": {
      "text/plain": [
       "7"
      ]
     },
     "execution_count": 13,
     "metadata": {},
     "output_type": "execute_result"
    }
   ],
   "source": [
    "a=3\n",
    "b=4\n",
    "a+b"
   ]
  },
  {
   "cell_type": "code",
   "execution_count": 14,
   "id": "caa14e28-b131-4211-92c1-6cfab691d2fe",
   "metadata": {},
   "outputs": [
    {
     "data": {
      "text/plain": [
       "-1"
      ]
     },
     "execution_count": 14,
     "metadata": {},
     "output_type": "execute_result"
    }
   ],
   "source": [
    "a-b"
   ]
  },
  {
   "cell_type": "code",
   "execution_count": 16,
   "id": "3c96f107-792f-428e-8bda-305047d2eff1",
   "metadata": {},
   "outputs": [
    {
     "data": {
      "text/plain": [
       "12"
      ]
     },
     "execution_count": 16,
     "metadata": {},
     "output_type": "execute_result"
    }
   ],
   "source": [
    "a*b"
   ]
  },
  {
   "cell_type": "code",
   "execution_count": null,
   "id": "36b3806c-f310-4687-99ee-92121aedcf68",
   "metadata": {},
   "outputs": [],
   "source": []
  },
  {
   "cell_type": "code",
   "execution_count": 15,
   "id": "a7d8cb9e-9208-4135-b6c8-318af400a0bc",
   "metadata": {},
   "outputs": [
    {
     "data": {
      "text/plain": [
       "0.75"
      ]
     },
     "execution_count": 15,
     "metadata": {},
     "output_type": "execute_result"
    }
   ],
   "source": [
    "a/b"
   ]
  },
  {
   "cell_type": "markdown",
   "id": "3d8fe912-6704-4f7c-aa9d-e4989932c0a5",
   "metadata": {},
   "source": [
    "#나눗셈연산 나머지리"
   ]
  },
  {
   "cell_type": "code",
   "execution_count": 18,
   "id": "59b55f9e-e9c7-4d99-adc1-daba57bdbdad",
   "metadata": {},
   "outputs": [
    {
     "data": {
      "text/plain": [
       "3"
      ]
     },
     "execution_count": 18,
     "metadata": {},
     "output_type": "execute_result"
    }
   ],
   "source": [
    "3%7"
   ]
  },
  {
   "cell_type": "markdown",
   "id": "d1e2d1b8-5b28-4694-b193-03bef408eb78",
   "metadata": {},
   "source": [
    "#나눗셈 몫 리턴"
   ]
  },
  {
   "cell_type": "code",
   "execution_count": 21,
   "id": "77ecb19b-ec81-40ad-8eb8-5ac51259c1de",
   "metadata": {},
   "outputs": [
    {
     "data": {
      "text/plain": [
       "1"
      ]
     },
     "execution_count": 21,
     "metadata": {},
     "output_type": "execute_result"
    }
   ],
   "source": [
    "7//4"
   ]
  },
  {
   "cell_type": "code",
   "execution_count": 22,
   "id": "333095d3-be67-4237-91fb-a5a1f66b5812",
   "metadata": {
    "scrolled": true
   },
   "outputs": [
    {
     "data": {
      "text/plain": [
       "1.75"
      ]
     },
     "execution_count": 22,
     "metadata": {},
     "output_type": "execute_result"
    }
   ],
   "source": [
    "7/4"
   ]
  },
  {
   "cell_type": "markdown",
   "id": "73b6747c-00c7-4bf3-b25c-bfa5b8e4770e",
   "metadata": {},
   "source": [
    "#문자열 자료형"
   ]
  },
  {
   "cell_type": "code",
   "execution_count": 23,
   "id": "2a1e53eb-92ae-4b1f-9532-8c11183c7436",
   "metadata": {},
   "outputs": [
    {
     "data": {
      "text/plain": [
       "'HELLO WORLD'"
      ]
     },
     "execution_count": 23,
     "metadata": {},
     "output_type": "execute_result"
    }
   ],
   "source": [
    "'HELLO WORLD'"
   ]
  },
  {
   "cell_type": "code",
   "execution_count": 24,
   "id": "c9146f58-3c0f-433c-9676-8241ee1d6748",
   "metadata": {},
   "outputs": [
    {
     "data": {
      "text/plain": [
       "' HELLO WORLD '"
      ]
     },
     "execution_count": 24,
     "metadata": {},
     "output_type": "execute_result"
    }
   ],
   "source": [
    "''' HELLO WORLD '''"
   ]
  },
  {
   "cell_type": "code",
   "execution_count": 26,
   "id": "40c542b4-a199-43aa-b378-937d94149636",
   "metadata": {},
   "outputs": [
    {
     "data": {
      "text/plain": [
       "'\\nHELLO WORLD\\n'"
      ]
     },
     "execution_count": 26,
     "metadata": {},
     "output_type": "execute_result"
    }
   ],
   "source": [
    "'''\n",
    "HELLO WORLD\n",
    "'''"
   ]
  },
  {
   "cell_type": "markdown",
   "id": "702766aa-6501-499a-9d65-bd47c4c96518",
   "metadata": {},
   "source": [
    "##문자열 안에 작은 따옴표나 큰 따옴표 포함시키고 싶을 때"
   ]
  },
  {
   "cell_type": "code",
   "execution_count": 28,
   "id": "5fab9bfd-a819-4697-a3d1-0f5b43adbd1e",
   "metadata": {},
   "outputs": [
    {
     "data": {
      "text/plain": [
       "\"\\npython's favorite good is perl\\n\""
      ]
     },
     "execution_count": 28,
     "metadata": {},
     "output_type": "execute_result"
    }
   ],
   "source": [
    "'''\n",
    "python's favorite good is perl\n",
    "'''"
   ]
  },
  {
   "cell_type": "code",
   "execution_count": 29,
   "id": "0c3a0167-cdb5-4a2f-9149-0550c192d357",
   "metadata": {},
   "outputs": [
    {
     "data": {
      "text/plain": [
       "\"python's favorite good is perl\""
      ]
     },
     "execution_count": 29,
     "metadata": {},
     "output_type": "execute_result"
    }
   ],
   "source": [
    "\"python's favorite good is perl\""
   ]
  },
  {
   "cell_type": "code",
   "execution_count": 30,
   "id": "d5d264f2-4506-4b0e-b30b-f72a539cb2ce",
   "metadata": {},
   "outputs": [
    {
     "data": {
      "text/plain": [
       "\"python's favorite food is perl\""
      ]
     },
     "execution_count": 30,
     "metadata": {},
     "output_type": "execute_result"
    }
   ],
   "source": [
    "'python\\'s favorite food is perl'"
   ]
  },
  {
   "cell_type": "code",
   "execution_count": 42,
   "id": "30f17a8d-dc8f-4085-b130-bec233028edf",
   "metadata": {},
   "outputs": [
    {
     "data": {
      "text/plain": [
       "'life is too short \\n you need python'"
      ]
     },
     "execution_count": 42,
     "metadata": {},
     "output_type": "execute_result"
    }
   ],
   "source": [
    "multiline = 'life is too short \\n you need python'\n",
    "multiline"
   ]
  },
  {
   "cell_type": "code",
   "execution_count": 37,
   "id": "c14c9e71-668f-4d20-a5f0-68e8166531e7",
   "metadata": {},
   "outputs": [
    {
     "name": "stdout",
     "output_type": "stream",
     "text": [
      "life is too short \n",
      " you need python\n"
     ]
    }
   ],
   "source": [
    "print(\"life is too short \\n you need python\")"
   ]
  },
  {
   "cell_type": "markdown",
   "id": "ab516839-841f-4d4a-b31a-38f5bbd13ddb",
   "metadata": {},
   "source": [
    "# 문자열 연산하기"
   ]
  },
  {
   "cell_type": "code",
   "execution_count": 45,
   "id": "fc569688-d1cc-4a07-9033-1a921de44a76",
   "metadata": {},
   "outputs": [
    {
     "data": {
      "text/plain": [
       "'Python is fun'"
      ]
     },
     "execution_count": 45,
     "metadata": {},
     "output_type": "execute_result"
    }
   ],
   "source": [
    "head = \"Python\"\n",
    "tail = \" is fun\"\n",
    "head + tail"
   ]
  },
  {
   "cell_type": "code",
   "execution_count": 46,
   "id": "1458d90b-17a8-4484-9538-547d4e9a3699",
   "metadata": {},
   "outputs": [
    {
     "data": {
      "text/plain": [
       "'pythonpythonpythonpythonpython'"
      ]
     },
     "execution_count": 46,
     "metadata": {},
     "output_type": "execute_result"
    }
   ],
   "source": [
    "a= 'python'\n",
    "a *5"
   ]
  },
  {
   "cell_type": "code",
   "execution_count": 47,
   "id": "72cf60a6-7224-4252-9637-f508c3fc842d",
   "metadata": {},
   "outputs": [
    {
     "name": "stdout",
     "output_type": "stream",
     "text": [
      "==================================================\n"
     ]
    }
   ],
   "source": [
    "print('='*50)"
   ]
  },
  {
   "cell_type": "code",
   "execution_count": 48,
   "id": "cd1298b7-415e-4288-adb7-9e9102912891",
   "metadata": {},
   "outputs": [
    {
     "data": {
      "text/plain": [
       "13"
      ]
     },
     "execution_count": 48,
     "metadata": {},
     "output_type": "execute_result"
    }
   ],
   "source": [
    "a= 'life is short'\n",
    "len(a)"
   ]
  },
  {
   "cell_type": "markdown",
   "id": "c1d921d6-de64-4057-93f0-96178f10013b",
   "metadata": {},
   "source": [
    "# 문자열 인덱싱"
   ]
  },
  {
   "cell_type": "code",
   "execution_count": 49,
   "id": "071a29c4-0d50-4b30-ae5f-f8dc66e7d0e8",
   "metadata": {},
   "outputs": [],
   "source": [
    "a= 'life is too short, you need python'"
   ]
  },
  {
   "cell_type": "code",
   "execution_count": 50,
   "id": "cc5695b5-7920-4466-9984-bc9db3142279",
   "metadata": {},
   "outputs": [
    {
     "data": {
      "text/plain": [
       "34"
      ]
     },
     "execution_count": 50,
     "metadata": {},
     "output_type": "execute_result"
    }
   ],
   "source": [
    "len(a)"
   ]
  },
  {
   "cell_type": "code",
   "execution_count": 54,
   "id": "9bcd0959-5359-4645-b3ba-958883172531",
   "metadata": {},
   "outputs": [
    {
     "data": {
      "text/plain": [
       "'life is to'"
      ]
     },
     "execution_count": 54,
     "metadata": {},
     "output_type": "execute_result"
    }
   ],
   "source": [
    "a[:10]"
   ]
  },
  {
   "cell_type": "code",
   "execution_count": 55,
   "id": "fe79a4d9-4d4c-4623-b9ca-aafb607667b2",
   "metadata": {},
   "outputs": [
    {
     "data": {
      "text/plain": [
       "'e'"
      ]
     },
     "execution_count": 55,
     "metadata": {},
     "output_type": "execute_result"
    }
   ],
   "source": [
    "a[3]"
   ]
  },
  {
   "cell_type": "code",
   "execution_count": 58,
   "id": "fade81fe-6c10-4d1b-967f-badb2a70715d",
   "metadata": {},
   "outputs": [
    {
     "data": {
      "text/plain": [
       "'h'"
      ]
     },
     "execution_count": 58,
     "metadata": {},
     "output_type": "execute_result"
    }
   ],
   "source": [
    "a[13]"
   ]
  },
  {
   "cell_type": "code",
   "execution_count": 59,
   "id": "2c61ab84-ba8c-47ba-a56c-1efe8877b53b",
   "metadata": {},
   "outputs": [
    {
     "data": {
      "text/plain": [
       "'n'"
      ]
     },
     "execution_count": 59,
     "metadata": {},
     "output_type": "execute_result"
    }
   ],
   "source": [
    "a[-1]"
   ]
  },
  {
   "cell_type": "code",
   "execution_count": 60,
   "id": "a169986e-078a-41c2-a10d-850b81ebfaff",
   "metadata": {},
   "outputs": [
    {
     "data": {
      "text/plain": [
       "'l'"
      ]
     },
     "execution_count": 60,
     "metadata": {},
     "output_type": "execute_result"
    }
   ],
   "source": [
    "a[-0]"
   ]
  },
  {
   "cell_type": "markdown",
   "id": "e2efa1a6-b926-4ef0-b141-ea131f141359",
   "metadata": {},
   "source": [
    "## 문자열 슬라이싱"
   ]
  },
  {
   "cell_type": "code",
   "execution_count": null,
   "id": "eff3c9f8-d438-4bc6-8d5b-90eb1d46012d",
   "metadata": {},
   "outputs": [],
   "source": [
    "a= 'life is too short, you need python'"
   ]
  },
  {
   "cell_type": "code",
   "execution_count": 61,
   "id": "945f613e-41cd-476c-9231-ae236825062d",
   "metadata": {},
   "outputs": [
    {
     "data": {
      "text/plain": [
       "'you need python'"
      ]
     },
     "execution_count": 61,
     "metadata": {},
     "output_type": "execute_result"
    }
   ],
   "source": [
    "a[-15 :]"
   ]
  },
  {
   "cell_type": "code",
   "execution_count": 62,
   "id": "479a63c0-bc9f-42e0-b20c-9d352d61e73e",
   "metadata": {},
   "outputs": [
    {
     "data": {
      "text/plain": [
       "'you need python'"
      ]
     },
     "execution_count": 62,
     "metadata": {},
     "output_type": "execute_result"
    }
   ],
   "source": [
    "a[-15 :len(a)]"
   ]
  },
  {
   "cell_type": "markdown",
   "id": "991cf87c-b663-46af-ad94-a4b9a1cf3eec",
   "metadata": {},
   "source": [
    "# 슬라이싱으로 문자열나누기"
   ]
  },
  {
   "cell_type": "code",
   "execution_count": 64,
   "id": "079dc747-230f-438c-9cf9-c0d4160917a1",
   "metadata": {},
   "outputs": [],
   "source": [
    "a= '20240610sunny'"
   ]
  },
  {
   "cell_type": "code",
   "execution_count": 69,
   "id": "fc9ff487-423e-4f57-b50f-e9bfe963a09f",
   "metadata": {},
   "outputs": [],
   "source": [
    "date = a[:8]"
   ]
  },
  {
   "cell_type": "code",
   "execution_count": 70,
   "id": "283dac94-4d54-41de-ba3b-e68bbf68bf63",
   "metadata": {},
   "outputs": [],
   "source": [
    "weather=a[8:]"
   ]
  },
  {
   "cell_type": "code",
   "execution_count": 72,
   "id": "f957ddaf-7885-4eb0-9a2d-d01efad37a3e",
   "metadata": {},
   "outputs": [
    {
     "data": {
      "text/plain": [
       "('20240610', 'sunny')"
      ]
     },
     "execution_count": 72,
     "metadata": {},
     "output_type": "execute_result"
    }
   ],
   "source": [
    "date, weather"
   ]
  },
  {
   "cell_type": "markdown",
   "id": "a804bbba-486d-45b4-b29b-47ba226283bf",
   "metadata": {},
   "source": [
    "# 문자열 포매팅"
   ]
  },
  {
   "cell_type": "code",
   "execution_count": 74,
   "id": "297f9523-4915-4b3d-9425-d98295a02c34",
   "metadata": {},
   "outputs": [
    {
     "data": {
      "text/plain": [
       "'i eat 3 apples'"
      ]
     },
     "execution_count": 74,
     "metadata": {},
     "output_type": "execute_result"
    }
   ],
   "source": [
    "\"i eat %d apples\"%3"
   ]
  },
  {
   "cell_type": "code",
   "execution_count": 75,
   "id": "a7836fe1-56f1-4279-b141-363a7fac64e3",
   "metadata": {},
   "outputs": [],
   "source": [
    "a= 5"
   ]
  },
  {
   "cell_type": "code",
   "execution_count": 78,
   "id": "1f627575-8a6b-4414-b9dd-0771ddb8f1da",
   "metadata": {},
   "outputs": [
    {
     "data": {
      "text/plain": [
       "'i eat 5 apples'"
      ]
     },
     "execution_count": 78,
     "metadata": {},
     "output_type": "execute_result"
    }
   ],
   "source": [
    "\"i eat %d apples\"%a"
   ]
  },
  {
   "cell_type": "code",
   "execution_count": 80,
   "id": "b8a4e546-8319-4d60-b5fa-6d9d9c8e0ed7",
   "metadata": {},
   "outputs": [
    {
     "data": {
      "text/plain": [
       "'i eat five apples'"
      ]
     },
     "execution_count": 80,
     "metadata": {},
     "output_type": "execute_result"
    }
   ],
   "source": [
    "\"i eat %s apples\"%\"five\""
   ]
  },
  {
   "cell_type": "code",
   "execution_count": 82,
   "id": "1e9ce90f-8319-4e4b-9cf7-7eb1dcbcf7c7",
   "metadata": {},
   "outputs": [],
   "source": [
    "num = 3"
   ]
  },
  {
   "cell_type": "code",
   "execution_count": 83,
   "id": "5f53bdb1-1cb0-4e67-b093-efe3038618c7",
   "metadata": {},
   "outputs": [
    {
     "data": {
      "text/plain": [
       "'i eat 3 apples'"
      ]
     },
     "execution_count": 83,
     "metadata": {},
     "output_type": "execute_result"
    }
   ],
   "source": [
    "\"i eat %d apples\"%num"
   ]
  },
  {
   "cell_type": "code",
   "execution_count": 84,
   "id": "b63b6e84-2a14-4eba-bbd6-09da68e4519f",
   "metadata": {},
   "outputs": [
    {
     "data": {
      "text/plain": [
       "'i ate 10 apples. so i was sick for three days'"
      ]
     },
     "execution_count": 84,
     "metadata": {},
     "output_type": "execute_result"
    }
   ],
   "source": [
    "#2개 이상\n",
    "num =10\n",
    "day ='three'\n",
    "\"i ate %d apples. so i was sick for %s days\" %(num, day)"
   ]
  },
  {
   "cell_type": "code",
   "execution_count": null,
   "id": "11926b20-61fe-4bdd-9e45-16d34c0bff1f",
   "metadata": {},
   "outputs": [],
   "source": [
    "\"i have %s apples. so i was sick for %d days\""
   ]
  },
  {
   "cell_type": "markdown",
   "id": "cc147e80-1dc9-423e-8190-dc26811be556",
   "metadata": {},
   "source": [
    "# format함수"
   ]
  },
  {
   "cell_type": "code",
   "execution_count": 88,
   "id": "7a2fc5bb-ef0b-4cd4-96ee-abfd8ecf6f88",
   "metadata": {},
   "outputs": [
    {
     "data": {
      "text/plain": [
       "'I eat threeapples. so i was sick for 10days.'"
      ]
     },
     "execution_count": 88,
     "metadata": {},
     "output_type": "execute_result"
    }
   ],
   "source": [
    "\"I eat {}apples. so i was sick for {}days.\" . format(day,num)"
   ]
  },
  {
   "cell_type": "markdown",
   "id": "3e598d7b-4a65-4ed7-9aed-e51c0aaf0e8a",
   "metadata": {},
   "source": [
    "# 문자열 관련 함수들"
   ]
  },
  {
   "cell_type": "code",
   "execution_count": 1,
   "id": "17d1cfdf-a900-42d7-8758-fdac3f94f3cc",
   "metadata": {},
   "outputs": [
    {
     "data": {
      "text/plain": [
       "2"
      ]
     },
     "execution_count": 1,
     "metadata": {},
     "output_type": "execute_result"
    }
   ],
   "source": [
    "#문자 개수 세기 count\n",
    "'hobby'\n",
    "a= 'hobby'\n",
    "a.count('b')"
   ]
  },
  {
   "cell_type": "code",
   "execution_count": 4,
   "id": "0a710404-bbfb-474d-85fd-7f8ea4ee08de",
   "metadata": {},
   "outputs": [
    {
     "data": {
      "text/plain": [
       "14"
      ]
     },
     "execution_count": 4,
     "metadata": {},
     "output_type": "execute_result"
    }
   ],
   "source": [
    "# find\n",
    "a= 'python is the best choice'\n",
    "a.find('b')"
   ]
  },
  {
   "cell_type": "code",
   "execution_count": 5,
   "id": "bcf32d1c-d4bb-49ae-a9cf-9e69e2ffd186",
   "metadata": {},
   "outputs": [
    {
     "data": {
      "text/plain": [
       "-1"
      ]
     },
     "execution_count": 5,
     "metadata": {},
     "output_type": "execute_result"
    }
   ],
   "source": [
    "a.find('k')"
   ]
  },
  {
   "cell_type": "code",
   "execution_count": 6,
   "id": "aa2dcafa-d684-46b3-a2fa-3297c2133460",
   "metadata": {},
   "outputs": [
    {
     "data": {
      "text/plain": [
       "2"
      ]
     },
     "execution_count": 6,
     "metadata": {},
     "output_type": "execute_result"
    }
   ],
   "source": [
    "a. index('t')"
   ]
  },
  {
   "cell_type": "code",
   "execution_count": 8,
   "id": "628d54ea-1faa-4eea-9cc8-89f36d36d244",
   "metadata": {},
   "outputs": [
    {
     "data": {
      "text/plain": [
       "'abcd'"
      ]
     },
     "execution_count": 8,
     "metadata": {},
     "output_type": "execute_result"
    }
   ],
   "source": [
    "#join\n",
    "a = 'abcd'\n",
    "a"
   ]
  },
  {
   "cell_type": "code",
   "execution_count": 10,
   "id": "c5306fa4-59f1-4d11-b620-da3f0d1004d3",
   "metadata": {},
   "outputs": [
    {
     "data": {
      "text/plain": [
       "'a,b,c,d'"
      ]
     },
     "execution_count": 10,
     "metadata": {},
     "output_type": "execute_result"
    }
   ],
   "source": [
    "',' .join(a)"
   ]
  },
  {
   "cell_type": "code",
   "execution_count": 11,
   "id": "636fd62e-48eb-478e-b2f6-93252f3da177",
   "metadata": {},
   "outputs": [],
   "source": [
    "a= ['a', 'b', 'c', 'd']"
   ]
  },
  {
   "cell_type": "code",
   "execution_count": 12,
   "id": "3f6d9e7c-d2f5-4447-bb83-f3fae1ef5d48",
   "metadata": {},
   "outputs": [
    {
     "data": {
      "text/plain": [
       "'a:b:c:d'"
      ]
     },
     "execution_count": 12,
     "metadata": {},
     "output_type": "execute_result"
    }
   ],
   "source": [
    "':'.join(a)"
   ]
  },
  {
   "cell_type": "code",
   "execution_count": 13,
   "id": "d2bc1926-a721-4a03-ba33-748a7a55ecd7",
   "metadata": {},
   "outputs": [],
   "source": [
    "#소문자를 대문자로 바꿔주기 UPPER"
   ]
  },
  {
   "cell_type": "code",
   "execution_count": 14,
   "id": "7a019178-2483-46f0-b622-70ca34fab254",
   "metadata": {},
   "outputs": [
    {
     "data": {
      "text/plain": [
       "'HI'"
      ]
     },
     "execution_count": 14,
     "metadata": {},
     "output_type": "execute_result"
    }
   ],
   "source": [
    "a='hi'\n",
    "a.upper()"
   ]
  },
  {
   "cell_type": "code",
   "execution_count": 15,
   "id": "05c55195-0dfa-4628-acc4-cebf3ad1761f",
   "metadata": {},
   "outputs": [
    {
     "name": "stdout",
     "output_type": "stream",
     "text": [
      "\n",
      "Help on NoneType object:\n",
      "\n",
      "class NoneType(object)\n",
      " |  Methods defined here:\n",
      " |  \n",
      " |  __bool__(self, /)\n",
      " |      True if self else False\n",
      " |  \n",
      " |  __repr__(self, /)\n",
      " |      Return repr(self).\n",
      " |  \n",
      " |  ----------------------------------------------------------------------\n",
      " |  Static methods defined here:\n",
      " |  \n",
      " |  __new__(*args, **kwargs) from builtins.type\n",
      " |      Create and return a new object.  See help(type) for accurate signature.\n",
      "\n"
     ]
    }
   ],
   "source": [
    "help(print())"
   ]
  },
  {
   "cell_type": "code",
   "execution_count": 16,
   "id": "a6f08835-5d1a-4a42-9f19-4c56b2c23a99",
   "metadata": {},
   "outputs": [],
   "source": [
    "#문자열바꾸기 replace"
   ]
  },
  {
   "cell_type": "code",
   "execution_count": 17,
   "id": "5d429da8-9c6f-4073-b953-026255ac96f5",
   "metadata": {},
   "outputs": [
    {
     "name": "stdout",
     "output_type": "stream",
     "text": [
      "Object `replace` not found.\n"
     ]
    }
   ],
   "source": [
    "a = 'life is too short'\n",
    "a. replace?"
   ]
  },
  {
   "cell_type": "code",
   "execution_count": 18,
   "id": "c51da70d-86e1-4c05-9494-e2561e6d9dc2",
   "metadata": {},
   "outputs": [
    {
     "data": {
      "text/plain": [
       "'Your leg is too short'"
      ]
     },
     "execution_count": 18,
     "metadata": {},
     "output_type": "execute_result"
    }
   ],
   "source": [
    "a. replace('life', 'Your leg')"
   ]
  },
  {
   "cell_type": "code",
   "execution_count": 19,
   "id": "3b073f03-54b0-4c12-ad73-170c5f1dc732",
   "metadata": {},
   "outputs": [],
   "source": [
    "#문자열 나누기 split"
   ]
  },
  {
   "cell_type": "code",
   "execution_count": 20,
   "id": "2e63b4e4-d2a4-4b73-ba68-9627f978451f",
   "metadata": {},
   "outputs": [
    {
     "data": {
      "text/plain": [
       "['life', 'is', 'too', 'short']"
      ]
     },
     "execution_count": 20,
     "metadata": {},
     "output_type": "execute_result"
    }
   ],
   "source": [
    "a. split()"
   ]
  },
  {
   "cell_type": "code",
   "execution_count": 21,
   "id": "8b05cf08-3454-40cb-b996-7901fd7abd29",
   "metadata": {},
   "outputs": [
    {
     "data": {
      "text/plain": [
       "\u001b[1;31mSignature:\u001b[0m \u001b[0ma\u001b[0m\u001b[1;33m.\u001b[0m\u001b[0msplit\u001b[0m\u001b[1;33m(\u001b[0m\u001b[0msep\u001b[0m\u001b[1;33m=\u001b[0m\u001b[1;32mNone\u001b[0m\u001b[1;33m,\u001b[0m \u001b[0mmaxsplit\u001b[0m\u001b[1;33m=\u001b[0m\u001b[1;33m-\u001b[0m\u001b[1;36m1\u001b[0m\u001b[1;33m)\u001b[0m\u001b[1;33m\u001b[0m\u001b[1;33m\u001b[0m\u001b[0m\n",
       "\u001b[1;31mDocstring:\u001b[0m\n",
       "Return a list of the substrings in the string, using sep as the separator string.\n",
       "\n",
       "  sep\n",
       "    The separator used to split the string.\n",
       "\n",
       "    When set to None (the default value), will split on any whitespace\n",
       "    character (including \\n \\r \\t \\f and spaces) and will discard\n",
       "    empty strings from the result.\n",
       "  maxsplit\n",
       "    Maximum number of splits (starting from the left).\n",
       "    -1 (the default value) means no limit.\n",
       "\n",
       "Note, str.split() is mainly useful for data that has been intentionally\n",
       "delimited.  With natural text that includes punctuation, consider using\n",
       "the regular expression module.\n",
       "\u001b[1;31mType:\u001b[0m      builtin_function_or_method"
      ]
     },
     "metadata": {},
     "output_type": "display_data"
    }
   ],
   "source": [
    "a.split?"
   ]
  },
  {
   "cell_type": "code",
   "execution_count": 23,
   "id": "01e8c73d-a707-4688-8334-5e6d00666c4f",
   "metadata": {},
   "outputs": [
    {
     "data": {
      "text/plain": [
       "'a:b:c:d'"
      ]
     },
     "execution_count": 23,
     "metadata": {},
     "output_type": "execute_result"
    }
   ],
   "source": [
    "b = 'a:b:c:d'\n",
    "b"
   ]
  },
  {
   "cell_type": "code",
   "execution_count": 24,
   "id": "30ebdc9a-6383-4be7-bd7e-1548509b44c5",
   "metadata": {},
   "outputs": [
    {
     "data": {
      "text/plain": [
       "['a', 'b', 'c', 'd']"
      ]
     },
     "execution_count": 24,
     "metadata": {},
     "output_type": "execute_result"
    }
   ],
   "source": [
    "b.split(':')"
   ]
  },
  {
   "cell_type": "code",
   "execution_count": 25,
   "id": "0af0e2ee-1b8e-48a4-806b-2b800662402a",
   "metadata": {},
   "outputs": [],
   "source": [
    "#변수"
   ]
  },
  {
   "cell_type": "code",
   "execution_count": 28,
   "id": "7d2f8825-9ddc-4b52-98fa-6bb9c5b9a55e",
   "metadata": {},
   "outputs": [
    {
     "data": {
      "text/plain": [
       "(1, int)"
      ]
     },
     "execution_count": 28,
     "metadata": {},
     "output_type": "execute_result"
    }
   ],
   "source": [
    "a=1\n",
    "a, type(a)"
   ]
  },
  {
   "cell_type": "code",
   "execution_count": 29,
   "id": "77ba14f6-fafd-42fb-bda4-42d3cf176c6e",
   "metadata": {},
   "outputs": [
    {
     "data": {
      "text/plain": [
       "('python', str)"
      ]
     },
     "execution_count": 29,
     "metadata": {},
     "output_type": "execute_result"
    }
   ],
   "source": [
    "b = 'python'\n",
    "b, type(b)"
   ]
  },
  {
   "cell_type": "code",
   "execution_count": 30,
   "id": "2498fb42-48b3-4d08-8afe-ce18ce14f8c5",
   "metadata": {},
   "outputs": [
    {
     "data": {
      "text/plain": [
       "([1, 2, 3], list)"
      ]
     },
     "execution_count": 30,
     "metadata": {},
     "output_type": "execute_result"
    }
   ],
   "source": [
    "c= [1,2,3]\n",
    "c, type(c)"
   ]
  },
  {
   "cell_type": "code",
   "execution_count": 32,
   "id": "bf6050da-d1b6-4621-a267-739f1a7fd21a",
   "metadata": {},
   "outputs": [
    {
     "data": {
      "text/plain": [
       "140728280728360"
      ]
     },
     "execution_count": 32,
     "metadata": {},
     "output_type": "execute_result"
    }
   ],
   "source": [
    "id(a)"
   ]
  },
  {
   "cell_type": "code",
   "execution_count": 36,
   "id": "40a49db1-7698-4dac-83f2-87eb097ccff3",
   "metadata": {},
   "outputs": [
    {
     "data": {
      "text/plain": [
       "140728280728360"
      ]
     },
     "execution_count": 36,
     "metadata": {},
     "output_type": "execute_result"
    }
   ],
   "source": [
    "id(b)"
   ]
  },
  {
   "cell_type": "code",
   "execution_count": 37,
   "id": "9bdb60c4-ea8f-4fc7-bd7f-b08ccb5b10e1",
   "metadata": {},
   "outputs": [
    {
     "data": {
      "text/plain": [
       "140728280728360"
      ]
     },
     "execution_count": 37,
     "metadata": {},
     "output_type": "execute_result"
    }
   ],
   "source": [
    "b=a\n",
    "id(b)"
   ]
  },
  {
   "cell_type": "code",
   "execution_count": 34,
   "id": "f6207bef-141d-4f6a-8d6a-a810342d58f2",
   "metadata": {},
   "outputs": [],
   "source": [
    "# id = 메모리 주소 / b=a 하면 아이디참"
   ]
  },
  {
   "cell_type": "code",
   "execution_count": 38,
   "id": "af97bbfb-dc15-4a6d-ab68-c7ca465dcdbf",
   "metadata": {},
   "outputs": [
    {
     "data": {
      "text/plain": [
       "True"
      ]
     },
     "execution_count": 38,
     "metadata": {},
     "output_type": "execute_result"
    }
   ],
   "source": [
    "a is b"
   ]
  },
  {
   "cell_type": "code",
   "execution_count": 39,
   "id": "8e1e7d86-c886-492b-9f9b-d085e6450b1d",
   "metadata": {},
   "outputs": [
    {
     "data": {
      "text/plain": [
       "False"
      ]
     },
     "execution_count": 39,
     "metadata": {},
     "output_type": "execute_result"
    }
   ],
   "source": [
    "a is not b"
   ]
  },
  {
   "cell_type": "code",
   "execution_count": 40,
   "id": "c6d1246f-c760-4493-bd7f-0e242b4de125",
   "metadata": {},
   "outputs": [
    {
     "data": {
      "text/plain": [
       "True"
      ]
     },
     "execution_count": 40,
     "metadata": {},
     "output_type": "execute_result"
    }
   ],
   "source": [
    "a ==b"
   ]
  },
  {
   "cell_type": "code",
   "execution_count": 41,
   "id": "6df1640d-1841-4fc0-aecf-84709dcd843e",
   "metadata": {},
   "outputs": [],
   "source": [
    "del b"
   ]
  },
  {
   "cell_type": "code",
   "execution_count": 42,
   "id": "1c7fb0a4-8dca-49c0-95a2-9853d5a87b75",
   "metadata": {},
   "outputs": [
    {
     "ename": "NameError",
     "evalue": "name 'b' is not defined",
     "output_type": "error",
     "traceback": [
      "\u001b[1;31m---------------------------------------------------------------------------\u001b[0m",
      "\u001b[1;31mNameError\u001b[0m                                 Traceback (most recent call last)",
      "Cell \u001b[1;32mIn[42], line 1\u001b[0m\n\u001b[1;32m----> 1\u001b[0m b\n",
      "\u001b[1;31mNameError\u001b[0m: name 'b' is not defined"
     ]
    }
   ],
   "source": [
    "b"
   ]
  },
  {
   "cell_type": "code",
   "execution_count": 43,
   "id": "4d858e55-9594-4762-800b-7b33ce496cff",
   "metadata": {},
   "outputs": [
    {
     "data": {
      "text/plain": [
       "(1851323203968, 1851323203968)"
      ]
     },
     "execution_count": 43,
     "metadata": {},
     "output_type": "execute_result"
    }
   ],
   "source": [
    "a= [1,2,3]\n",
    "b = a\n",
    "id(a), id(b)"
   ]
  },
  {
   "cell_type": "code",
   "execution_count": 44,
   "id": "26956f9b-c538-4397-b09d-02feb9c77854",
   "metadata": {},
   "outputs": [
    {
     "data": {
      "text/plain": [
       "[1, 4, 3]"
      ]
     },
     "execution_count": 44,
     "metadata": {},
     "output_type": "execute_result"
    }
   ],
   "source": [
    "a[1]=4\n",
    "a"
   ]
  },
  {
   "cell_type": "code",
   "execution_count": 45,
   "id": "7f323f62-1754-46b1-8b80-c081e401348b",
   "metadata": {},
   "outputs": [
    {
     "data": {
      "text/plain": [
       "[1, 4, 3]"
      ]
     },
     "execution_count": 45,
     "metadata": {},
     "output_type": "execute_result"
    }
   ],
   "source": [
    "b"
   ]
  },
  {
   "cell_type": "code",
   "execution_count": 46,
   "id": "590f6cb1-14e1-4f84-83d8-8d9672767aab",
   "metadata": {},
   "outputs": [
    {
     "data": {
      "text/plain": [
       "(1851323206784, 1851336277120)"
      ]
     },
     "execution_count": 46,
     "metadata": {},
     "output_type": "execute_result"
    }
   ],
   "source": [
    "a= [1,2,3]\n",
    "b = a[:]\n",
    "id(a), id(b)"
   ]
  },
  {
   "cell_type": "code",
   "execution_count": 47,
   "id": "8d57b1c7-b314-41cc-ab94-69cf24cc7ed1",
   "metadata": {},
   "outputs": [
    {
     "data": {
      "text/plain": [
       "[1, 2, 3]"
      ]
     },
     "execution_count": 47,
     "metadata": {},
     "output_type": "execute_result"
    }
   ],
   "source": [
    "a[:]"
   ]
  },
  {
   "cell_type": "markdown",
   "id": "706e7e53-ee89-47bc-8f0c-0e204bc1bbd0",
   "metadata": {},
   "source": [
    "# copy"
   ]
  },
  {
   "cell_type": "code",
   "execution_count": 48,
   "id": "8cedbd15-ab30-40bb-8f0d-925b1c4a3df9",
   "metadata": {},
   "outputs": [],
   "source": [
    "from copy import copy"
   ]
  },
  {
   "cell_type": "code",
   "execution_count": 49,
   "id": "06bf7d7a-df11-4bde-9ddc-086793047a62",
   "metadata": {},
   "outputs": [
    {
     "data": {
      "text/plain": [
       "[1, 2, 3]"
      ]
     },
     "execution_count": 49,
     "metadata": {},
     "output_type": "execute_result"
    }
   ],
   "source": [
    "a= [1,2,3]\n",
    "a"
   ]
  },
  {
   "cell_type": "code",
   "execution_count": 52,
   "id": "54002c03-55c3-4588-94f8-6f2c4bd28082",
   "metadata": {},
   "outputs": [
    {
     "data": {
      "text/plain": [
       "(1851336299456, 1851336522048)"
      ]
     },
     "execution_count": 52,
     "metadata": {},
     "output_type": "execute_result"
    }
   ],
   "source": [
    "b= copy(a)\n",
    "id(a), id(b)\n",
    "# 깊은복사라고함."
   ]
  },
  {
   "cell_type": "code",
   "execution_count": 53,
   "id": "84a8e2cb-b9c7-488d-9458-7bbe1f579665",
   "metadata": {},
   "outputs": [
    {
     "data": {
      "text/plain": [
       "False"
      ]
     },
     "execution_count": 53,
     "metadata": {},
     "output_type": "execute_result"
    }
   ],
   "source": [
    "b is a\n",
    "#b와 a는 다르다 ㅎㅎ"
   ]
  },
  {
   "cell_type": "code",
   "execution_count": 54,
   "id": "f359b846-bdab-43d2-8fe8-78a585aa8b9c",
   "metadata": {},
   "outputs": [
    {
     "data": {
      "text/plain": [
       "True"
      ]
     },
     "execution_count": 54,
     "metadata": {},
     "output_type": "execute_result"
    }
   ],
   "source": [
    "b==a"
   ]
  },
  {
   "cell_type": "markdown",
   "id": "14c8a359-e1bb-4c36-9148-256523b219dd",
   "metadata": {},
   "source": [
    "# 변수를 만드는 여러가지 방법"
   ]
  },
  {
   "cell_type": "code",
   "execution_count": 55,
   "id": "995c0d04-c6a7-4596-bc8d-d047644aca48",
   "metadata": {},
   "outputs": [],
   "source": [
    "#파이써닉하다 ㅎ = 파이썬의 특징이 드러나는 코딩방법"
   ]
  },
  {
   "cell_type": "code",
   "execution_count": 56,
   "id": "e2145681-7ec3-4d74-bf84-6dab6915ff35",
   "metadata": {},
   "outputs": [
    {
     "data": {
      "text/plain": [
       "('python', 'life')"
      ]
     },
     "execution_count": 56,
     "metadata": {},
     "output_type": "execute_result"
    }
   ],
   "source": [
    "a='python'\n",
    "b='life'\n",
    "a,b"
   ]
  },
  {
   "cell_type": "code",
   "execution_count": 57,
   "id": "8684cadc-b647-4e27-b91e-1c31e742d585",
   "metadata": {},
   "outputs": [
    {
     "data": {
      "text/plain": [
       "('python', 'life')"
      ]
     },
     "execution_count": 57,
     "metadata": {},
     "output_type": "execute_result"
    }
   ],
   "source": [
    "(a,b) ='python', 'life'\n",
    "a,b"
   ]
  },
  {
   "cell_type": "code",
   "execution_count": 58,
   "id": "207853cf-f29f-41cc-befa-a23ddc5e496e",
   "metadata": {},
   "outputs": [
    {
     "data": {
      "text/plain": [
       "'python'"
      ]
     },
     "execution_count": 58,
     "metadata": {},
     "output_type": "execute_result"
    }
   ],
   "source": [
    "a"
   ]
  },
  {
   "cell_type": "code",
   "execution_count": 59,
   "id": "69f76a00-6ee1-4436-aa76-e88ddd2ce36f",
   "metadata": {},
   "outputs": [
    {
     "data": {
      "text/plain": [
       "'life'"
      ]
     },
     "execution_count": 59,
     "metadata": {},
     "output_type": "execute_result"
    }
   ],
   "source": [
    "b"
   ]
  },
  {
   "cell_type": "code",
   "execution_count": 60,
   "id": "620b1a3c-6d03-4974-8b6e-2e0262e4afa1",
   "metadata": {},
   "outputs": [],
   "source": [
    "a=3\n",
    "b=5\n",
    "# 어떻게 값을 바꿀 수있는가?"
   ]
  },
  {
   "cell_type": "code",
   "execution_count": 61,
   "id": "d1f57ec4-94e3-463b-8c17-9fc61d59c935",
   "metadata": {},
   "outputs": [
    {
     "data": {
      "text/plain": [
       "(5, 3)"
      ]
     },
     "execution_count": 61,
     "metadata": {},
     "output_type": "execute_result"
    }
   ],
   "source": [
    "a,b = b,a\n",
    "a,b"
   ]
  },
  {
   "cell_type": "markdown",
   "id": "530be61e-f748-4103-9fb9-a60d00777171",
   "metadata": {},
   "source": [
    "# 리스트 자료형"
   ]
  },
  {
   "cell_type": "code",
   "execution_count": 62,
   "id": "3a5fa5f6-b9d0-40f3-9d03-490c94b1a6fb",
   "metadata": {},
   "outputs": [
    {
     "data": {
      "text/plain": [
       "[1, 3, 5, 7, 9]"
      ]
     },
     "execution_count": 62,
     "metadata": {},
     "output_type": "execute_result"
    }
   ],
   "source": [
    "odd = [1,3,5,7,9]\n",
    "odd"
   ]
  },
  {
   "cell_type": "code",
   "execution_count": 63,
   "id": "7b0b9fa6-05e4-4cb0-ab0a-8f5bbcf97a72",
   "metadata": {},
   "outputs": [
    {
     "data": {
      "text/plain": [
       "list"
      ]
     },
     "execution_count": 63,
     "metadata": {},
     "output_type": "execute_result"
    }
   ],
   "source": [
    "type(odd)"
   ]
  },
  {
   "cell_type": "code",
   "execution_count": 64,
   "id": "99c1aadc-9c37-46ee-8c1c-5e5596da593a",
   "metadata": {},
   "outputs": [
    {
     "name": "stdout",
     "output_type": "stream",
     "text": [
      "[] <class 'list'>\n",
      "[1, 2, 3] <class 'list'>\n",
      "['life', 'is', 'too', 'short'] <class 'list'>\n",
      "[1, 2, 'life', 'is'] <class 'list'>\n",
      "[1, 2, ['life', 'is']] <class 'list'>\n"
     ]
    }
   ],
   "source": [
    "a= []\n",
    "b= [1,2,3]\n",
    "c= ['life', 'is', 'too', 'short']\n",
    "d=[1,2,'life', 'is']\n",
    "e = [1,2,['life', 'is']]\n",
    "print(a, type(a))\n",
    "print(b, type(b))\n",
    "print(c, type(c))\n",
    "print(d, type(d))\n",
    "print(e, type(e))"
   ]
  },
  {
   "cell_type": "markdown",
   "id": "2b2cc130-cfe0-458c-97eb-341c8d211502",
   "metadata": {},
   "source": [
    "# 리스트의 인덱싱"
   ]
  },
  {
   "cell_type": "code",
   "execution_count": 65,
   "id": "175b51ac-97c0-492a-ae0f-bb3da75b93a8",
   "metadata": {},
   "outputs": [
    {
     "data": {
      "text/plain": [
       "[1, 2, 3]"
      ]
     },
     "execution_count": 65,
     "metadata": {},
     "output_type": "execute_result"
    }
   ],
   "source": [
    "a= [1,2,3]\n",
    "a"
   ]
  },
  {
   "cell_type": "code",
   "execution_count": 66,
   "id": "1c6cf2ee-5771-41e5-8cb0-8d025ec3b39c",
   "metadata": {},
   "outputs": [
    {
     "data": {
      "text/plain": [
       "1"
      ]
     },
     "execution_count": 66,
     "metadata": {},
     "output_type": "execute_result"
    }
   ],
   "source": [
    "a[0]"
   ]
  },
  {
   "cell_type": "code",
   "execution_count": 67,
   "id": "a3c48dc9-cfe5-4b41-9781-921572d8bd82",
   "metadata": {},
   "outputs": [
    {
     "data": {
      "text/plain": [
       "[1, 2, 3, ['a', 'b', 'c']]"
      ]
     },
     "execution_count": 67,
     "metadata": {},
     "output_type": "execute_result"
    }
   ],
   "source": [
    "a= [1,2,3,['a','b','c']]\n",
    "a\n"
   ]
  },
  {
   "cell_type": "code",
   "execution_count": 68,
   "id": "242189c6-6b0d-4127-8fd8-a6267f91cd91",
   "metadata": {},
   "outputs": [
    {
     "data": {
      "text/plain": [
       "4"
      ]
     },
     "execution_count": 68,
     "metadata": {},
     "output_type": "execute_result"
    }
   ],
   "source": [
    "len(a)"
   ]
  },
  {
   "cell_type": "code",
   "execution_count": 69,
   "id": "495fd13e-9a7a-4847-9fd1-5309a57db375",
   "metadata": {},
   "outputs": [
    {
     "data": {
      "text/plain": [
       "['a', 'b', 'c']"
      ]
     },
     "execution_count": 69,
     "metadata": {},
     "output_type": "execute_result"
    }
   ],
   "source": [
    "a[3]"
   ]
  },
  {
   "cell_type": "code",
   "execution_count": 70,
   "id": "d77a3438-8596-4bbc-85cb-b9364fc7ef00",
   "metadata": {},
   "outputs": [
    {
     "data": {
      "text/plain": [
       "'b'"
      ]
     },
     "execution_count": 70,
     "metadata": {},
     "output_type": "execute_result"
    }
   ],
   "source": [
    "a[3][1]"
   ]
  },
  {
   "cell_type": "code",
   "execution_count": null,
   "id": "2fb4b3b4-e0aa-4081-847c-5ac1c39a5708",
   "metadata": {},
   "outputs": [],
   "source": [
    "# 삼중 리스트 인덱싱"
   ]
  },
  {
   "cell_type": "code",
   "execution_count": 73,
   "id": "988f580c-d0e1-48d7-9865-fe8f52f23049",
   "metadata": {},
   "outputs": [],
   "source": [
    "a = [1,2,['a', 'b',['life', 'is']]]"
   ]
  },
  {
   "cell_type": "code",
   "execution_count": 74,
   "id": "802fc136-5f01-47e3-a608-a7f50ca1719b",
   "metadata": {},
   "outputs": [
    {
     "data": {
      "text/plain": [
       "'life'"
      ]
     },
     "execution_count": 74,
     "metadata": {},
     "output_type": "execute_result"
    }
   ],
   "source": [
    "a[2][2][0]"
   ]
  },
  {
   "cell_type": "code",
   "execution_count": 75,
   "id": "9c502cb9-493b-4672-ba3d-c6628e0304e2",
   "metadata": {},
   "outputs": [],
   "source": [
    "a=[1,2,3,4,5]"
   ]
  },
  {
   "cell_type": "code",
   "execution_count": 76,
   "id": "cf94b5e8-1b46-4c63-9e69-25c367dcb7a3",
   "metadata": {},
   "outputs": [
    {
     "data": {
      "text/plain": [
       "[3, 4]"
      ]
     },
     "execution_count": 76,
     "metadata": {},
     "output_type": "execute_result"
    }
   ],
   "source": [
    "a[2:4]"
   ]
  },
  {
   "cell_type": "code",
   "execution_count": 78,
   "id": "6d1b2e68-1e57-45d8-bd79-60a745db7139",
   "metadata": {},
   "outputs": [
    {
     "data": {
      "text/plain": [
       "[2, 4]"
      ]
     },
     "execution_count": 78,
     "metadata": {},
     "output_type": "execute_result"
    }
   ],
   "source": [
    "a[1::2]"
   ]
  },
  {
   "cell_type": "code",
   "execution_count": 79,
   "id": "ab17c6f4-d3f8-4715-805d-dbdf848ef49d",
   "metadata": {},
   "outputs": [],
   "source": [
    "a=[1,2,3,['a','b','c'],4,5]"
   ]
  },
  {
   "cell_type": "code",
   "execution_count": 80,
   "id": "af46b163-2703-43e5-b345-9409d4a015f7",
   "metadata": {},
   "outputs": [
    {
     "data": {
      "text/plain": [
       "['a', 'b']"
      ]
     },
     "execution_count": 80,
     "metadata": {},
     "output_type": "execute_result"
    }
   ],
   "source": [
    "a[3][:2]"
   ]
  },
  {
   "cell_type": "code",
   "execution_count": null,
   "id": "586e042a-3154-42cf-b1e7-6d06f5131881",
   "metadata": {},
   "outputs": [],
   "source": []
  },
  {
   "cell_type": "markdown",
   "id": "2a83962f-a672-454e-8224-6f4dca332f13",
   "metadata": {},
   "source": [
    "# del 리스트 요소 삭제"
   ]
  },
  {
   "cell_type": "code",
   "execution_count": 82,
   "id": "251b85ab-1337-4453-aa2f-9c1a1413cc3a",
   "metadata": {},
   "outputs": [],
   "source": [
    "a=[1,2,3]\n",
    "del a[1]"
   ]
  },
  {
   "cell_type": "code",
   "execution_count": 83,
   "id": "8d0ae35e-0941-4856-801f-5f575d86f00e",
   "metadata": {},
   "outputs": [
    {
     "data": {
      "text/plain": [
       "[1, 3]"
      ]
     },
     "execution_count": 83,
     "metadata": {},
     "output_type": "execute_result"
    }
   ],
   "source": [
    "a"
   ]
  },
  {
   "cell_type": "code",
   "execution_count": 84,
   "id": "403d2cad-40df-4263-b839-224dbd5fe20b",
   "metadata": {},
   "outputs": [],
   "source": [
    "a=[1,2,3,4,5]\n",
    "del a[3:]"
   ]
  },
  {
   "cell_type": "code",
   "execution_count": 85,
   "id": "f10d3159-3dff-4678-ad3d-eaab26e13a20",
   "metadata": {},
   "outputs": [
    {
     "data": {
      "text/plain": [
       "[1, 2, 3]"
      ]
     },
     "execution_count": 85,
     "metadata": {},
     "output_type": "execute_result"
    }
   ],
   "source": [
    "a"
   ]
  },
  {
   "cell_type": "markdown",
   "id": "9b64ee6a-463d-4a8a-9762-fc23f75b84dd",
   "metadata": {},
   "source": [
    "# 리스트관련함수"
   ]
  },
  {
   "cell_type": "code",
   "execution_count": 86,
   "id": "e0c70040-80aa-47db-b790-589b652bf466",
   "metadata": {},
   "outputs": [],
   "source": [
    "#리스트 요소 추가 append"
   ]
  },
  {
   "cell_type": "code",
   "execution_count": 87,
   "id": "eeaa9a73-6c5d-40a4-8360-c109b61be138",
   "metadata": {},
   "outputs": [
    {
     "data": {
      "text/plain": [
       "[1, 2, 3]"
      ]
     },
     "execution_count": 87,
     "metadata": {},
     "output_type": "execute_result"
    }
   ],
   "source": [
    "a= [1,2,3]\n",
    "a"
   ]
  },
  {
   "cell_type": "code",
   "execution_count": 91,
   "id": "e43751a5-6db8-4204-9e46-44af12551552",
   "metadata": {},
   "outputs": [],
   "source": [
    "a.append(4)"
   ]
  },
  {
   "cell_type": "code",
   "execution_count": 92,
   "id": "932bf6a2-1839-4192-8835-c1e2be431ac0",
   "metadata": {},
   "outputs": [
    {
     "data": {
      "text/plain": [
       "[1, 2, 3, '4', '4', 4]"
      ]
     },
     "execution_count": 92,
     "metadata": {},
     "output_type": "execute_result"
    }
   ],
   "source": [
    "a"
   ]
  },
  {
   "cell_type": "code",
   "execution_count": 95,
   "id": "473a981f-6167-418f-9475-3517ebca3bce",
   "metadata": {},
   "outputs": [
    {
     "ename": "NameError",
     "evalue": "name 'hello' is not defined",
     "output_type": "error",
     "traceback": [
      "\u001b[1;31m---------------------------------------------------------------------------\u001b[0m",
      "\u001b[1;31mNameError\u001b[0m                                 Traceback (most recent call last)",
      "Cell \u001b[1;32mIn[95], line 1\u001b[0m\n\u001b[1;32m----> 1\u001b[0m a\u001b[38;5;241m.\u001b[39m append(hello)\n",
      "\u001b[1;31mNameError\u001b[0m: name 'hello' is not defined"
     ]
    }
   ],
   "source": [
    "a. append(hello)"
   ]
  },
  {
   "cell_type": "code",
   "execution_count": 94,
   "id": "03476184-a3f1-411d-ac54-c4a3331dc7d7",
   "metadata": {},
   "outputs": [
    {
     "data": {
      "text/plain": [
       "[1, 2, 3, '4', '4', 4, str]"
      ]
     },
     "execution_count": 94,
     "metadata": {},
     "output_type": "execute_result"
    }
   ],
   "source": [
    "a"
   ]
  },
  {
   "cell_type": "code",
   "execution_count": 98,
   "id": "ce8465fa-96d2-4782-8e33-3df665131334",
   "metadata": {},
   "outputs": [],
   "source": [
    "a=[1,4,3,2]\n",
    "a.sort()\n",
    "# default가 asc 오름차순이라 그냥 ()해도됨"
   ]
  },
  {
   "cell_type": "code",
   "execution_count": 97,
   "id": "27fd7034-f316-4950-9932-afb4d6450e02",
   "metadata": {},
   "outputs": [
    {
     "data": {
      "text/plain": [
       "[1, 2, 3, 4]"
      ]
     },
     "execution_count": 97,
     "metadata": {},
     "output_type": "execute_result"
    }
   ],
   "source": [
    "a"
   ]
  },
  {
   "cell_type": "code",
   "execution_count": 102,
   "id": "8babf0af-95c4-4bcb-8924-7b969be73bcf",
   "metadata": {},
   "outputs": [
    {
     "ename": "NameError",
     "evalue": "name 'true' is not defined",
     "output_type": "error",
     "traceback": [
      "\u001b[1;31m---------------------------------------------------------------------------\u001b[0m",
      "\u001b[1;31mNameError\u001b[0m                                 Traceback (most recent call last)",
      "Cell \u001b[1;32mIn[102], line 1\u001b[0m\n\u001b[1;32m----> 1\u001b[0m a\u001b[38;5;241m.\u001b[39msort(reverse \u001b[38;5;241m=\u001b[39m true)\n\u001b[0;32m      2\u001b[0m a\n",
      "\u001b[1;31mNameError\u001b[0m: name 'true' is not defined"
     ]
    }
   ],
   "source": [
    "a.sort(reverse = true)\n",
    "a"
   ]
  },
  {
   "cell_type": "code",
   "execution_count": 103,
   "id": "57357260-cff4-48b9-9dde-0a0296b12ab5",
   "metadata": {},
   "outputs": [],
   "source": [
    "#인덱스반환"
   ]
  },
  {
   "cell_type": "code",
   "execution_count": 104,
   "id": "21afad1c-a9cf-4d23-9c0a-91f115738f51",
   "metadata": {},
   "outputs": [
    {
     "data": {
      "text/plain": [
       "2"
      ]
     },
     "execution_count": 104,
     "metadata": {},
     "output_type": "execute_result"
    }
   ],
   "source": [
    "a = [1,2,3]\n",
    "a.index(3)"
   ]
  },
  {
   "cell_type": "markdown",
   "id": "d8f67dad-5d9a-44a8-9368-764f3129fad8",
   "metadata": {},
   "source": [
    "# 리스트 요소 삽입"
   ]
  },
  {
   "cell_type": "code",
   "execution_count": 106,
   "id": "6781eb91-ac56-44a7-8dac-7916ca97f90d",
   "metadata": {},
   "outputs": [
    {
     "data": {
      "text/plain": [
       "[4, 1, 2, 3]"
      ]
     },
     "execution_count": 106,
     "metadata": {},
     "output_type": "execute_result"
    }
   ],
   "source": [
    "a=[1,2,3]\n",
    "a.insert(0,4)\n",
    "a"
   ]
  },
  {
   "cell_type": "code",
   "execution_count": 108,
   "id": "4f91bf2c-e683-4194-827d-6fa366dfb6df",
   "metadata": {},
   "outputs": [
    {
     "data": {
      "text/plain": [
       "[1, 2, 1, 2, 3]"
      ]
     },
     "execution_count": 108,
     "metadata": {},
     "output_type": "execute_result"
    }
   ],
   "source": [
    "a= [1,2,3,1,2,3]\n",
    "a. remove(3)\n",
    "a"
   ]
  },
  {
   "cell_type": "code",
   "execution_count": 110,
   "id": "8d871fb1-bcf3-4db8-9c85-99ea47d4abab",
   "metadata": {},
   "outputs": [
    {
     "data": {
      "text/plain": [
       "3"
      ]
     },
     "execution_count": 110,
     "metadata": {},
     "output_type": "execute_result"
    }
   ],
   "source": [
    "b = [1,2,3]\n",
    "b.pop()\n",
    "\n",
    "#pop은 뽑은 다음에 삭제해주는 것"
   ]
  },
  {
   "cell_type": "code",
   "execution_count": 111,
   "id": "b77d02d2-22c0-4235-974f-5b61f3c2e40e",
   "metadata": {},
   "outputs": [
    {
     "data": {
      "text/plain": [
       "[1, 2]"
      ]
     },
     "execution_count": 111,
     "metadata": {},
     "output_type": "execute_result"
    }
   ],
   "source": [
    "b"
   ]
  },
  {
   "cell_type": "code",
   "execution_count": 112,
   "id": "e8aa0a9e-ad8e-4a08-9a28-41a043bc8ad7",
   "metadata": {},
   "outputs": [
    {
     "data": {
      "text/plain": [
       "[1, 2, 3, 1]"
      ]
     },
     "execution_count": 112,
     "metadata": {},
     "output_type": "execute_result"
    }
   ],
   "source": [
    "#count\n",
    "a=[1,2,3,1]\n",
    "a"
   ]
  },
  {
   "cell_type": "code",
   "execution_count": 113,
   "id": "44492c18-7ce6-4fd4-b92d-0a048743ce13",
   "metadata": {},
   "outputs": [
    {
     "data": {
      "text/plain": [
       "2"
      ]
     },
     "execution_count": 113,
     "metadata": {},
     "output_type": "execute_result"
    }
   ],
   "source": [
    "a.count(1)"
   ]
  },
  {
   "cell_type": "code",
   "execution_count": 114,
   "id": "b4503924-3420-410d-b289-b167324e42bd",
   "metadata": {},
   "outputs": [
    {
     "data": {
      "text/plain": [
       "[1, 2, 3, 4, 5]"
      ]
     },
     "execution_count": 114,
     "metadata": {},
     "output_type": "execute_result"
    }
   ],
   "source": [
    "#extend\n",
    "a = [1,2,3]\n",
    "a.extend ([4,5])\n",
    "a"
   ]
  },
  {
   "cell_type": "code",
   "execution_count": 115,
   "id": "994c41f9-6301-422e-89cb-dc1edb89b1f6",
   "metadata": {},
   "outputs": [
    {
     "data": {
      "text/plain": [
       "[1, 2, 3, 4, 5, 6, 7]"
      ]
     },
     "execution_count": 115,
     "metadata": {},
     "output_type": "execute_result"
    }
   ],
   "source": [
    "b =[6,7]\n",
    "a.extend(b)\n",
    "a\n",
    "#extend = iterable함."
   ]
  },
  {
   "cell_type": "code",
   "execution_count": 116,
   "id": "8db6ba39-5be3-44d0-8d36-7148b0da6dc2",
   "metadata": {},
   "outputs": [
    {
     "data": {
      "text/plain": [
       "3"
      ]
     },
     "execution_count": 116,
     "metadata": {},
     "output_type": "execute_result"
    }
   ],
   "source": [
    "a = 1\n",
    "a=a+2\n",
    "a"
   ]
  },
  {
   "cell_type": "markdown",
   "id": "ba175c42-3aa1-4c5d-b4d0-c09e6efa4066",
   "metadata": {},
   "source": [
    "# 튜플자료형"
   ]
  },
  {
   "cell_type": "code",
   "execution_count": null,
   "id": "84a98746-e30c-4724-bb2d-74b805863ec8",
   "metadata": {},
   "outputs": [],
   "source": [
    "t1=()\n",
    "t2=(1,)\n",
    "t3=(1,2,3)\n",
    "t4=1,2,3\n",
    "t5 = ('a','b', ('ab','cd'))\n"
   ]
  },
  {
   "cell_type": "markdown",
   "id": "735f54a0-920d-4783-9b7c-2da08e6100c0",
   "metadata": {},
   "source": [
    "# 딕셔너리"
   ]
  },
  {
   "cell_type": "code",
   "execution_count": 1,
   "id": "00fcfb88-fbd2-4621-add1-e85d44f960d3",
   "metadata": {},
   "outputs": [],
   "source": [
    "dic = {'name': \"pay\", \"phone\": \"010-9999-1234\", \"birth\":\"0813\"}"
   ]
  },
  {
   "cell_type": "code",
   "execution_count": 2,
   "id": "084af007-1c85-4d4a-aa0c-8c93a030d04a",
   "metadata": {},
   "outputs": [
    {
     "data": {
      "text/plain": [
       "{'name': 'pay', 'phone': '010-9999-1234', 'birth': '0813'}"
      ]
     },
     "execution_count": 2,
     "metadata": {},
     "output_type": "execute_result"
    }
   ],
   "source": [
    "dic"
   ]
  },
  {
   "cell_type": "code",
   "execution_count": 3,
   "id": "9ed955b5-3da3-4e7d-8f3c-c9f0070241bf",
   "metadata": {},
   "outputs": [
    {
     "data": {
      "text/plain": [
       "dict"
      ]
     },
     "execution_count": 3,
     "metadata": {},
     "output_type": "execute_result"
    }
   ],
   "source": [
    "type(dic)"
   ]
  },
  {
   "cell_type": "code",
   "execution_count": 4,
   "id": "2949cd6c-0c0e-4bd4-8ea2-ec057163207f",
   "metadata": {},
   "outputs": [],
   "source": [
    "a = {1:'hi'}"
   ]
  },
  {
   "cell_type": "code",
   "execution_count": 5,
   "id": "4edb3bc9-afc5-44e1-a343-4c7a983d9e3c",
   "metadata": {},
   "outputs": [
    {
     "data": {
      "text/plain": [
       "{1: 'hi'}"
      ]
     },
     "execution_count": 5,
     "metadata": {},
     "output_type": "execute_result"
    }
   ],
   "source": [
    "a"
   ]
  },
  {
   "cell_type": "code",
   "execution_count": 8,
   "id": "f3e30a3e-2485-4875-8cdd-51a6917e5999",
   "metadata": {},
   "outputs": [
    {
     "data": {
      "text/plain": [
       "({'a': [1, 2, 3]}, dict)"
      ]
     },
     "execution_count": 8,
     "metadata": {},
     "output_type": "execute_result"
    }
   ],
   "source": [
    "a = {'a':[1,2,3]}\n",
    "a, type(a)"
   ]
  },
  {
   "cell_type": "markdown",
   "id": "9ffccd19-9453-4261-b84c-c5e647ec4f2b",
   "metadata": {},
   "source": [
    "#딕셔너리 쌍 추가, 삭제하기"
   ]
  },
  {
   "cell_type": "code",
   "execution_count": 9,
   "id": "80284ee5-a68f-43c7-8251-b24870948a08",
   "metadata": {},
   "outputs": [],
   "source": [
    "a = {1:'a'}"
   ]
  },
  {
   "cell_type": "code",
   "execution_count": 12,
   "id": "2b262bcc-5568-4121-9869-914c4ce7399b",
   "metadata": {},
   "outputs": [
    {
     "data": {
      "text/plain": [
       "{1: 'a', 2: 'b'}"
      ]
     },
     "execution_count": 12,
     "metadata": {},
     "output_type": "execute_result"
    }
   ],
   "source": [
    "a[2] = 'b'\n",
    "a"
   ]
  },
  {
   "cell_type": "code",
   "execution_count": 13,
   "id": "8ac4cb50-726d-4b65-963d-60285116ef37",
   "metadata": {},
   "outputs": [
    {
     "data": {
      "text/plain": [
       "{1: 'a', 2: 'b', 'name': 'pay'}"
      ]
     },
     "execution_count": 13,
     "metadata": {},
     "output_type": "execute_result"
    }
   ],
   "source": [
    "a['name'] = 'pay'\n",
    "a"
   ]
  },
  {
   "cell_type": "code",
   "execution_count": 14,
   "id": "67153aa9-70db-443c-97d0-fc1971a1284d",
   "metadata": {},
   "outputs": [
    {
     "data": {
      "text/plain": [
       "{1: 'a', 2: 'b', 'name': 'pay', 3: [1, 2, 3]}"
      ]
     },
     "execution_count": 14,
     "metadata": {},
     "output_type": "execute_result"
    }
   ],
   "source": [
    "a[3] = [1,2,3]\n",
    "a"
   ]
  },
  {
   "cell_type": "code",
   "execution_count": 15,
   "id": "aa594f69-35ba-48f8-b116-6f063dab8cea",
   "metadata": {},
   "outputs": [
    {
     "data": {
      "text/plain": [
       "{2: 'b', 'name': 'pay', 3: [1, 2, 3]}"
      ]
     },
     "execution_count": 15,
     "metadata": {},
     "output_type": "execute_result"
    }
   ],
   "source": [
    "del a[1]\n",
    "a"
   ]
  },
  {
   "cell_type": "markdown",
   "id": "7a4bdae3-e64b-41af-8dd4-5ec4be9a52c0",
   "metadata": {},
   "source": [
    "## 딕셔너리 사용법"
   ]
  },
  {
   "cell_type": "code",
   "execution_count": 17,
   "id": "1e4ae54c-d5b3-47fc-8643-592c5aef3d47",
   "metadata": {},
   "outputs": [
    {
     "data": {
      "text/plain": [
       "10"
      ]
     },
     "execution_count": 17,
     "metadata": {},
     "output_type": "execute_result"
    }
   ],
   "source": [
    "grade = {'pey': 10, 'julliet': 99}\n",
    "grade['pey']\n"
   ]
  },
  {
   "cell_type": "code",
   "execution_count": 18,
   "id": "24011996-a47c-4ee4-b1b0-9e0b5e566784",
   "metadata": {},
   "outputs": [
    {
     "data": {
      "text/plain": [
       "99"
      ]
     },
     "execution_count": 18,
     "metadata": {},
     "output_type": "execute_result"
    }
   ],
   "source": [
    "grade['julliet']"
   ]
  },
  {
   "cell_type": "code",
   "execution_count": 19,
   "id": "bdf2c7cc-0754-49ca-a79c-c31211ada99b",
   "metadata": {},
   "outputs": [
    {
     "ename": "TypeError",
     "evalue": "unhashable type: 'list'",
     "output_type": "error",
     "traceback": [
      "\u001b[1;31m---------------------------------------------------------------------------\u001b[0m",
      "\u001b[1;31mTypeError\u001b[0m                                 Traceback (most recent call last)",
      "Cell \u001b[1;32mIn[19], line 1\u001b[0m\n\u001b[1;32m----> 1\u001b[0m a \u001b[38;5;241m=\u001b[39m {[\u001b[38;5;241m1\u001b[39m,\u001b[38;5;241m2\u001b[39m] : \u001b[38;5;124m'\u001b[39m\u001b[38;5;124mhi\u001b[39m\u001b[38;5;124m'\u001b[39m}\n",
      "\u001b[1;31mTypeError\u001b[0m: unhashable type: 'list'"
     ]
    }
   ],
   "source": [
    "a = {[1,2] : 'hi'}\n",
    "\n",
    "#list는 사용불가"
   ]
  },
  {
   "cell_type": "markdown",
   "id": "5a4ecb35-f8fa-4c13-a5f0-d759b656f6c2",
   "metadata": {},
   "source": [
    "# 딕셔너리 관련함수"
   ]
  },
  {
   "cell_type": "code",
   "execution_count": 22,
   "id": "487ed6a3-5e45-4189-a56b-a85964388500",
   "metadata": {},
   "outputs": [
    {
     "data": {
      "text/plain": [
       "dict_keys(['name', 'phone', 'birth'])"
      ]
     },
     "execution_count": 22,
     "metadata": {},
     "output_type": "execute_result"
    }
   ],
   "source": [
    "a = {'name': 'pey', 'phone': '010-9999-1234', 'birth': '1118'}\n",
    "a.keys()"
   ]
  },
  {
   "cell_type": "code",
   "execution_count": 26,
   "id": "f202320f-b7f0-429d-a050-3a055f2ebf8f",
   "metadata": {},
   "outputs": [
    {
     "name": "stdout",
     "output_type": "stream",
     "text": [
      "name\n",
      "phone\n",
      "birth\n"
     ]
    }
   ],
   "source": [
    "for k in a.keys() :\n",
    "    print(k)\n",
    "\n",
    "#for문은 제어문의 핵심 _ 반복 \n",
    "#for를 위한 재료가 필요한데 , iterable 즉, 반복가능한 객체가 필요함 ex)시퀀스객체, 또 다른 객체 등 리스트객체를 품고있는 dict_keys\n"
   ]
  },
  {
   "cell_type": "code",
   "execution_count": 27,
   "id": "2723f7e9-a366-4ca9-92cc-4b86f50855e1",
   "metadata": {},
   "outputs": [
    {
     "data": {
      "text/plain": [
       "['name', 'phone', 'birth']"
      ]
     },
     "execution_count": 27,
     "metadata": {},
     "output_type": "execute_result"
    }
   ],
   "source": [
    "list(a.keys())\n",
    "# list객체로 변환"
   ]
  },
  {
   "cell_type": "code",
   "execution_count": 29,
   "id": "19abd188-d732-4e24-b76f-9b5730d9294c",
   "metadata": {},
   "outputs": [
    {
     "data": {
      "text/plain": [
       "dict_values(['pey', '010-9999-1234', '1118'])"
      ]
     },
     "execution_count": 29,
     "metadata": {},
     "output_type": "execute_result"
    }
   ],
   "source": [
    "#values list 만들기\n",
    "a.values()"
   ]
  },
  {
   "cell_type": "code",
   "execution_count": 30,
   "id": "57a25930-8750-4ddd-80fc-205fff0142ed",
   "metadata": {},
   "outputs": [
    {
     "data": {
      "text/plain": [
       "dict_items([('name', 'pey'), ('phone', '010-9999-1234'), ('birth', '1118')])"
      ]
     },
     "execution_count": 30,
     "metadata": {},
     "output_type": "execute_result"
    }
   ],
   "source": [
    "a.items()\n",
    "# 키와 벨류가 하나로"
   ]
  },
  {
   "cell_type": "code",
   "execution_count": 32,
   "id": "69a6dd81-7b72-4c7f-bb8c-945924788bf6",
   "metadata": {},
   "outputs": [
    {
     "data": {
      "text/plain": [
       "{}"
      ]
     },
     "execution_count": 32,
     "metadata": {},
     "output_type": "execute_result"
    }
   ],
   "source": [
    "#k,v 모두 지우기 clear\n",
    "a.clear()\n",
    "a"
   ]
  },
  {
   "cell_type": "code",
   "execution_count": 34,
   "id": "22f7185c-2304-4621-ba0b-fcb88dcede30",
   "metadata": {},
   "outputs": [],
   "source": [
    "#key로 value 얻기\n",
    "a = {'name': 'pey', 'phone': '010-9999-1234', 'birth': '1118'}"
   ]
  },
  {
   "cell_type": "code",
   "execution_count": 35,
   "id": "9073f01d-f548-49a3-a9ae-be1f908278fd",
   "metadata": {},
   "outputs": [
    {
     "data": {
      "text/plain": [
       "'pey'"
      ]
     },
     "execution_count": 35,
     "metadata": {},
     "output_type": "execute_result"
    }
   ],
   "source": [
    "a.get('name')"
   ]
  },
  {
   "cell_type": "code",
   "execution_count": 36,
   "id": "d459a8d2-f383-4369-90a0-395d8b7c7496",
   "metadata": {},
   "outputs": [
    {
     "data": {
      "text/plain": [
       "'010-9999-1234'"
      ]
     },
     "execution_count": 36,
     "metadata": {},
     "output_type": "execute_result"
    }
   ],
   "source": [
    "a.get('phone')"
   ]
  },
  {
   "cell_type": "code",
   "execution_count": 39,
   "id": "e4139025-d1e6-42f6-8139-5972f5c7ad85",
   "metadata": {},
   "outputs": [],
   "source": [
    "# a['nokey'] 는 안되고 a.get('nokey')는 됨"
   ]
  },
  {
   "cell_type": "code",
   "execution_count": 40,
   "id": "695ae351-0316-4f01-8991-6402de5cdd96",
   "metadata": {},
   "outputs": [],
   "source": [
    "a.get('nokey')"
   ]
  },
  {
   "cell_type": "code",
   "execution_count": 41,
   "id": "c357d3c1-70d1-406b-a692-0c93ee452c4f",
   "metadata": {},
   "outputs": [
    {
     "ename": "KeyError",
     "evalue": "'nokey'",
     "output_type": "error",
     "traceback": [
      "\u001b[1;31m---------------------------------------------------------------------------\u001b[0m",
      "\u001b[1;31mKeyError\u001b[0m                                  Traceback (most recent call last)",
      "Cell \u001b[1;32mIn[41], line 1\u001b[0m\n\u001b[1;32m----> 1\u001b[0m a[\u001b[38;5;124m'\u001b[39m\u001b[38;5;124mnokey\u001b[39m\u001b[38;5;124m'\u001b[39m]\n",
      "\u001b[1;31mKeyError\u001b[0m: 'nokey'"
     ]
    }
   ],
   "source": [
    "a['nokey']"
   ]
  },
  {
   "cell_type": "code",
   "execution_count": 42,
   "id": "1fbc5767-4f5a-4bbd-85c4-f2e581210926",
   "metadata": {},
   "outputs": [],
   "source": [
    "## 해당 키가 dict안에 있는지 조사하기"
   ]
  },
  {
   "cell_type": "code",
   "execution_count": 43,
   "id": "a764f64e-5b19-4b18-8b9d-e6c7e0501d40",
   "metadata": {},
   "outputs": [
    {
     "data": {
      "text/plain": [
       "True"
      ]
     },
     "execution_count": 43,
     "metadata": {},
     "output_type": "execute_result"
    }
   ],
   "source": [
    "'name' in a"
   ]
  },
  {
   "cell_type": "code",
   "execution_count": 44,
   "id": "72a344f8-c8d8-47c0-ba38-86d1406e25bb",
   "metadata": {},
   "outputs": [
    {
     "data": {
      "text/plain": [
       "False"
      ]
     },
     "execution_count": 44,
     "metadata": {},
     "output_type": "execute_result"
    }
   ],
   "source": [
    "'email' in a"
   ]
  },
  {
   "cell_type": "markdown",
   "id": "8b1c810b-75d1-49c4-a768-939b3b65cb74",
   "metadata": {},
   "source": [
    "# 집합 자료형"
   ]
  },
  {
   "cell_type": "code",
   "execution_count": 47,
   "id": "f32a5298-8a45-4f3d-8334-3ef36985ecf0",
   "metadata": {},
   "outputs": [
    {
     "data": {
      "text/plain": [
       "({1, 2, 3}, set)"
      ]
     },
     "execution_count": 47,
     "metadata": {},
     "output_type": "execute_result"
    }
   ],
   "source": [
    "s1 = set([1,2,3])\n",
    "s1, type(s1)"
   ]
  },
  {
   "cell_type": "code",
   "execution_count": 48,
   "id": "e8de4b88-457f-43af-b289-a678fd783c21",
   "metadata": {},
   "outputs": [
    {
     "data": {
      "text/plain": [
       "{'e', 'h', 'l', 'o'}"
      ]
     },
     "execution_count": 48,
     "metadata": {},
     "output_type": "execute_result"
    }
   ],
   "source": [
    "s2 = set('hello')\n",
    "s2\n",
    "# 집합은 유니크한 값만 독립적으로 유지해줌.(ㅈ중복허용 / 순서없음)"
   ]
  },
  {
   "cell_type": "code",
   "execution_count": 50,
   "id": "43c47d58-768c-42ab-aea3-f44a39de6dae",
   "metadata": {},
   "outputs": [
    {
     "data": {
      "text/plain": [
       "[1, 2, 3]"
      ]
     },
     "execution_count": 50,
     "metadata": {},
     "output_type": "execute_result"
    }
   ],
   "source": [
    "l1 = list(s1)\n",
    "l1"
   ]
  },
  {
   "cell_type": "markdown",
   "id": "b7068a33-378c-4b89-9e6c-f9b3f165cd2f",
   "metadata": {},
   "source": [
    "# 교집합, 합집합, 차집합구하기"
   ]
  },
  {
   "cell_type": "code",
   "execution_count": 52,
   "id": "e5d2b497-2622-46d6-8314-5ab483aa3e23",
   "metadata": {},
   "outputs": [],
   "source": [
    "s1 = set([1, 2, 3, 4, 5, 6])\n",
    "s2 = set([4, 5, 6, 7, 8, 9])"
   ]
  },
  {
   "cell_type": "code",
   "execution_count": 53,
   "id": "89827773-3c16-4824-bd51-35b8d71aa816",
   "metadata": {},
   "outputs": [
    {
     "data": {
      "text/plain": [
       "{4, 5, 6}"
      ]
     },
     "execution_count": 53,
     "metadata": {},
     "output_type": "execute_result"
    }
   ],
   "source": [
    "s1.intersection(s2)"
   ]
  },
  {
   "cell_type": "code",
   "execution_count": 55,
   "id": "d95997ca-2a3f-4fa1-aa3c-35ff694c8aba",
   "metadata": {},
   "outputs": [
    {
     "data": {
      "text/plain": [
       "{1, 2, 3, 4, 5, 6, 7, 8, 9}"
      ]
     },
     "execution_count": 55,
     "metadata": {},
     "output_type": "execute_result"
    }
   ],
   "source": [
    "s1.union(s2)\n",
    "#합집합 "
   ]
  },
  {
   "cell_type": "code",
   "execution_count": 57,
   "id": "38064809-e85a-406e-a36b-7669f3890da0",
   "metadata": {},
   "outputs": [
    {
     "data": {
      "text/plain": [
       "{1, 2, 3, 4, 5, 6, 7, 8, 9}"
      ]
     },
     "execution_count": 57,
     "metadata": {},
     "output_type": "execute_result"
    }
   ],
   "source": [
    "s1|s2"
   ]
  },
  {
   "cell_type": "code",
   "execution_count": 59,
   "id": "42e2887e-77c2-466b-b505-954ca4b66190",
   "metadata": {},
   "outputs": [
    {
     "data": {
      "text/plain": [
       "{1, 2, 3}"
      ]
     },
     "execution_count": 59,
     "metadata": {},
     "output_type": "execute_result"
    }
   ],
   "source": [
    "# 차집합\n",
    "s1-s2"
   ]
  },
  {
   "cell_type": "code",
   "execution_count": 60,
   "id": "d8fa1c48-6b84-4f9f-93a4-d52fea971bfc",
   "metadata": {},
   "outputs": [
    {
     "data": {
      "text/plain": [
       "{1, 2, 3}"
      ]
     },
     "execution_count": 60,
     "metadata": {},
     "output_type": "execute_result"
    }
   ],
   "source": [
    "s1.difference(s2)"
   ]
  },
  {
   "cell_type": "code",
   "execution_count": 61,
   "id": "16893d2c-6579-45c9-95fb-04d3da70dcbf",
   "metadata": {},
   "outputs": [],
   "source": [
    "# 집합자료형 관련함수"
   ]
  },
  {
   "cell_type": "code",
   "execution_count": 63,
   "id": "27079573-583b-4490-b53e-b6f1ceb5ab20",
   "metadata": {},
   "outputs": [
    {
     "data": {
      "text/plain": [
       "{1, 2, 3, 4}"
      ]
     },
     "execution_count": 63,
     "metadata": {},
     "output_type": "execute_result"
    }
   ],
   "source": [
    "#값1개 추가하기 -add\n",
    "s1 = set([1,2,3])\n",
    "s1.add(4)\n",
    "s1"
   ]
  },
  {
   "cell_type": "code",
   "execution_count": 64,
   "id": "47cf0829-5578-4efd-9c35-b60e4614d180",
   "metadata": {},
   "outputs": [
    {
     "data": {
      "text/plain": [
       "{1, 2, 3, 4, 5, 6}"
      ]
     },
     "execution_count": 64,
     "metadata": {},
     "output_type": "execute_result"
    }
   ],
   "source": [
    "#값 여러개 추가하기 + update\n",
    "s1.update([4,5,6])\n",
    "s1"
   ]
  },
  {
   "cell_type": "code",
   "execution_count": 69,
   "id": "cbf169f2-1ae4-45f5-8b1d-a5c4a0de4ed0",
   "metadata": {},
   "outputs": [],
   "source": [
    "#특정값 제거하기 _ remove\n"
   ]
  },
  {
   "cell_type": "markdown",
   "id": "b09e0682-1dd2-481d-8603-19e0da1031d3",
   "metadata": {},
   "source": [
    "# Boolean"
   ]
  },
  {
   "cell_type": "code",
   "execution_count": 71,
   "id": "e31681d8-809c-422f-b948-90eea9e1e7a7",
   "metadata": {},
   "outputs": [],
   "source": [
    "a = True\n",
    "b = False"
   ]
  },
  {
   "cell_type": "code",
   "execution_count": 72,
   "id": "f9e43f5d-bcdb-4aaa-ad87-4c5942f0ab0d",
   "metadata": {},
   "outputs": [
    {
     "data": {
      "text/plain": [
       "(bool, bool)"
      ]
     },
     "execution_count": 72,
     "metadata": {},
     "output_type": "execute_result"
    }
   ],
   "source": [
    "type(a), type(b)"
   ]
  },
  {
   "cell_type": "code",
   "execution_count": 73,
   "id": "2f2635cb-4cb0-4253-8a02-974106cfee27",
   "metadata": {},
   "outputs": [
    {
     "data": {
      "text/plain": [
       "True"
      ]
     },
     "execution_count": 73,
     "metadata": {},
     "output_type": "execute_result"
    }
   ],
   "source": [
    "1==1"
   ]
  },
  {
   "cell_type": "code",
   "execution_count": 74,
   "id": "88c87bde-dc7e-4719-a459-736938e851ce",
   "metadata": {},
   "outputs": [
    {
     "data": {
      "text/plain": [
       "True"
      ]
     },
     "execution_count": 74,
     "metadata": {},
     "output_type": "execute_result"
    }
   ],
   "source": [
    "2>1"
   ]
  },
  {
   "cell_type": "code",
   "execution_count": 75,
   "id": "966f733f-69ea-4db7-bbd6-0a9c5187b4b7",
   "metadata": {},
   "outputs": [
    {
     "data": {
      "text/plain": [
       "False"
      ]
     },
     "execution_count": 75,
     "metadata": {},
     "output_type": "execute_result"
    }
   ],
   "source": [
    "1>2"
   ]
  },
  {
   "cell_type": "markdown",
   "id": "1e12ed20-e147-41c0-a41d-2166c3a65409",
   "metadata": {},
   "source": [
    "# 자료형의 참과거짓"
   ]
  },
  {
   "cell_type": "code",
   "execution_count": 78,
   "id": "8b6a9c00-a052-4453-92c6-86e281b3a25f",
   "metadata": {},
   "outputs": [
    {
     "name": "stdout",
     "output_type": "stream",
     "text": [
      "4\n",
      "3\n",
      "2\n",
      "1\n"
     ]
    }
   ],
   "source": [
    "a= [1,2,3,4]\n",
    "# while 은 조건반복문 (조건내에서 반복) 즉, a는 조건문\n",
    "while a:\n",
    "    print (a. pop())\n",
    "    "
   ]
  },
  {
   "cell_type": "code",
   "execution_count": null,
   "id": "d77612a3-8b08-47a8-b656-a8d3227cb993",
   "metadata": {},
   "outputs": [],
   "source": [
    "if []:\n",
    "    print('참')\n",
    "else :\n",
    "    print('거짓')"
   ]
  },
  {
   "cell_type": "code",
   "execution_count": 79,
   "id": "2eb7d4c2-9b2b-4e47-b761-95f0da864893",
   "metadata": {},
   "outputs": [
    {
     "data": {
      "text/plain": [
       "\u001b[1;31mInit signature:\u001b[0m \u001b[0mbool\u001b[0m\u001b[1;33m(\u001b[0m\u001b[0mself\u001b[0m\u001b[1;33m,\u001b[0m \u001b[1;33m/\u001b[0m\u001b[1;33m,\u001b[0m \u001b[1;33m*\u001b[0m\u001b[0margs\u001b[0m\u001b[1;33m,\u001b[0m \u001b[1;33m**\u001b[0m\u001b[0mkwargs\u001b[0m\u001b[1;33m)\u001b[0m\u001b[1;33m\u001b[0m\u001b[1;33m\u001b[0m\u001b[0m\n",
       "\u001b[1;31mDocstring:\u001b[0m     \n",
       "bool(x) -> bool\n",
       "\n",
       "Returns True when the argument x is true, False otherwise.\n",
       "The builtins True and False are the only two instances of the class bool.\n",
       "The class bool is a subclass of the class int, and cannot be subclassed.\n",
       "\u001b[1;31mType:\u001b[0m           type\n",
       "\u001b[1;31mSubclasses:\u001b[0m     "
      ]
     },
     "metadata": {},
     "output_type": "display_data"
    }
   ],
   "source": [
    "bool?"
   ]
  },
  {
   "cell_type": "code",
   "execution_count": 80,
   "id": "76a67365-42e9-4194-9faf-5e49b162668d",
   "metadata": {},
   "outputs": [
    {
     "data": {
      "text/plain": [
       "True"
      ]
     },
     "execution_count": 80,
     "metadata": {},
     "output_type": "execute_result"
    }
   ],
   "source": [
    "bool('python')"
   ]
  },
  {
   "cell_type": "code",
   "execution_count": 83,
   "id": "f876239e-9035-49d0-b139-0ce4ecd6073d",
   "metadata": {},
   "outputs": [
    {
     "data": {
      "text/plain": [
       "True"
      ]
     },
     "execution_count": 83,
     "metadata": {},
     "output_type": "execute_result"
    }
   ],
   "source": [
    "bool(' ')"
   ]
  },
  {
   "cell_type": "code",
   "execution_count": 84,
   "id": "b65a3be2-4ab9-4c04-8f3e-01e574bfcf74",
   "metadata": {},
   "outputs": [
    {
     "data": {
      "text/plain": [
       "False"
      ]
     },
     "execution_count": 84,
     "metadata": {},
     "output_type": "execute_result"
    }
   ],
   "source": [
    "bool(0)"
   ]
  },
  {
   "cell_type": "code",
   "execution_count": 85,
   "id": "446987de-4d43-439e-9e8a-9f5c873055d1",
   "metadata": {},
   "outputs": [
    {
     "data": {
      "text/plain": [
       "True"
      ]
     },
     "execution_count": 85,
     "metadata": {},
     "output_type": "execute_result"
    }
   ],
   "source": [
    "bool(3)"
   ]
  },
  {
   "cell_type": "code",
   "execution_count": null,
   "id": "666013e4-b0e4-4da5-9b20-313b2352e32b",
   "metadata": {},
   "outputs": [],
   "source": []
  },
  {
   "cell_type": "code",
   "execution_count": null,
   "id": "a1145a5b-cce6-4d1a-b5ef-69f6eb0a8e9a",
   "metadata": {},
   "outputs": [],
   "source": []
  },
  {
   "cell_type": "code",
   "execution_count": null,
   "id": "490014ac-1a0a-4d18-8925-bc9acb1b36a4",
   "metadata": {},
   "outputs": [],
   "source": []
  },
  {
   "cell_type": "code",
   "execution_count": null,
   "id": "57c2ab86-8684-4a98-835e-9bc9618e6a07",
   "metadata": {},
   "outputs": [],
   "source": []
  },
  {
   "cell_type": "code",
   "execution_count": null,
   "id": "55ed320e-32fe-45c5-8321-578bcc076cfb",
   "metadata": {},
   "outputs": [],
   "source": []
  },
  {
   "cell_type": "code",
   "execution_count": null,
   "id": "b5ac5eae-94ee-46fb-a475-61cc9cf87da2",
   "metadata": {},
   "outputs": [],
   "source": []
  },
  {
   "cell_type": "code",
   "execution_count": null,
   "id": "51d099a8-db26-4cdc-94b6-3ffc14d6499b",
   "metadata": {},
   "outputs": [],
   "source": []
  },
  {
   "cell_type": "code",
   "execution_count": null,
   "id": "ac4a5639-f165-495a-b220-7a42a45e5c5a",
   "metadata": {},
   "outputs": [],
   "source": []
  },
  {
   "cell_type": "code",
   "execution_count": null,
   "id": "6880635e-4f21-4c32-bf8c-40965c11e194",
   "metadata": {},
   "outputs": [],
   "source": []
  },
  {
   "cell_type": "code",
   "execution_count": null,
   "id": "0a78c8bb-8c28-4e86-98fc-d79dbdff4d44",
   "metadata": {},
   "outputs": [],
   "source": []
  },
  {
   "cell_type": "code",
   "execution_count": null,
   "id": "622e220f-f4b3-4011-af73-008bb2800237",
   "metadata": {},
   "outputs": [],
   "source": []
  },
  {
   "cell_type": "code",
   "execution_count": null,
   "id": "856480c5-fbcc-47b9-b4b5-97713aa6f248",
   "metadata": {},
   "outputs": [],
   "source": []
  },
  {
   "cell_type": "code",
   "execution_count": null,
   "id": "00638d47-108b-48dc-a6d5-51b29be58555",
   "metadata": {},
   "outputs": [],
   "source": []
  },
  {
   "cell_type": "code",
   "execution_count": null,
   "id": "d42ff1dd-4bc2-472a-8d21-836d15acc2f1",
   "metadata": {},
   "outputs": [],
   "source": []
  },
  {
   "cell_type": "code",
   "execution_count": null,
   "id": "571681dd-d644-4608-bcc2-c883fe27802c",
   "metadata": {},
   "outputs": [],
   "source": []
  },
  {
   "cell_type": "code",
   "execution_count": null,
   "id": "3532c919-eef7-467f-9699-572bd5dd7abd",
   "metadata": {},
   "outputs": [],
   "source": []
  },
  {
   "cell_type": "code",
   "execution_count": null,
   "id": "27b5d731-9e6d-4afb-9143-d7be9bfbd45b",
   "metadata": {},
   "outputs": [],
   "source": []
  }
 ],
 "metadata": {
  "kernelspec": {
   "display_name": "Python 3 (ipykernel)",
   "language": "python",
   "name": "python3"
  },
  "language_info": {
   "codemirror_mode": {
    "name": "ipython",
    "version": 3
   },
   "file_extension": ".py",
   "mimetype": "text/x-python",
   "name": "python",
   "nbconvert_exporter": "python",
   "pygments_lexer": "ipython3",
   "version": "3.11.7"
  }
 },
 "nbformat": 4,
 "nbformat_minor": 5
}
