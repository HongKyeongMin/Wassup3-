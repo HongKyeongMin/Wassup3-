{
 "cells": [
  {
   "cell_type": "markdown",
   "id": "5a349608-f140-453c-97db-869aeef17f6f",
   "metadata": {},
   "source": [
    "# if 분기문"
   ]
  },
  {
   "cell_type": "code",
   "execution_count": 1,
   "id": "b83cb285-0aef-4655-bbed-c63af4b7f323",
   "metadata": {},
   "outputs": [
    {
     "name": "stdout",
     "output_type": "stream",
     "text": [
      "택시를 타고 가라\n"
     ]
    }
   ],
   "source": [
    "money = True\n",
    "if money:\n",
    "    print(\"택시를 타고 가라\")\n",
    "else:\n",
    "    print(\"걸어 가라\")"
   ]
  },
  {
   "cell_type": "code",
   "execution_count": 2,
   "id": "3074910a-83aa-48d8-98eb-908dba1bf528",
   "metadata": {},
   "outputs": [
    {
     "name": "stdout",
     "output_type": "stream",
     "text": [
      "걸어 가라\n"
     ]
    }
   ],
   "source": [
    "money = False\n",
    "if money:\n",
    "    print(\"택시를 타고 가라\")\n",
    "else:\n",
    "    print(\"걸어 가라\")"
   ]
  },
  {
   "cell_type": "code",
   "execution_count": 4,
   "id": "7f7de7ca-e87a-4ee1-a3de-1a31f1ab7bca",
   "metadata": {},
   "outputs": [
    {
     "name": "stdout",
     "output_type": "stream",
     "text": [
      "택시를\n",
      "타고\n",
      "가라\n"
     ]
    }
   ],
   "source": [
    "money = True\n",
    "if money:\n",
    "    print(\"택시를\")\n",
    "    print(\"타고\")\n",
    "    print(\"가라\")"
   ]
  },
  {
   "cell_type": "markdown",
   "id": "5b941f10-f7ff-407c-bc88-849bab123452",
   "metadata": {},
   "source": [
    "# 조건문"
   ]
  },
  {
   "cell_type": "code",
   "execution_count": 6,
   "id": "3393eaa6-23a1-40d9-b749-1f3711aaecbd",
   "metadata": {},
   "outputs": [
    {
     "data": {
      "text/plain": [
       "True"
      ]
     },
     "execution_count": 6,
     "metadata": {},
     "output_type": "execute_result"
    }
   ],
   "source": [
    "x=3\n",
    "y=2\n",
    "x>y"
   ]
  },
  {
   "cell_type": "code",
   "execution_count": 7,
   "id": "60bea9f5-6e91-476d-8772-b0b187521282",
   "metadata": {},
   "outputs": [
    {
     "data": {
      "text/plain": [
       "True"
      ]
     },
     "execution_count": 7,
     "metadata": {},
     "output_type": "execute_result"
    }
   ],
   "source": [
    "x !=y"
   ]
  },
  {
   "cell_type": "code",
   "execution_count": 8,
   "id": "e123dbc6-5ce2-4952-8745-39fac43d3d29",
   "metadata": {},
   "outputs": [],
   "source": [
    "# 돈이 3000원 이상 있거나 카드가 있다면 택시를 타고 가고, 그렇지 않으면 걸어가라."
   ]
  },
  {
   "cell_type": "code",
   "execution_count": 9,
   "id": "e080fe39-c93c-412d-8c7d-90454190a7a1",
   "metadata": {},
   "outputs": [
    {
     "name": "stdout",
     "output_type": "stream",
     "text": [
      "택시를 타고가라\n"
     ]
    }
   ],
   "source": [
    "money = 4000\n",
    "if money >= 3000 :\n",
    "    print(\"택시를 타고가라\")\n",
    "else :\n",
    "    print(\"걸어가라\")\n"
   ]
  },
  {
   "cell_type": "code",
   "execution_count": 14,
   "id": "25b8b232-3af0-43c0-95ad-d3b438120c6d",
   "metadata": {},
   "outputs": [
    {
     "name": "stdout",
     "output_type": "stream",
     "text": [
      "택시를 타고 가라\n"
     ]
    }
   ],
   "source": [
    "money = 5000\n",
    "card = True\n",
    "if money >= 3000 or card:\n",
    "     print(\"택시를 타고 가라\")\n",
    "else:\n",
    "     print(\"걸어가라\")"
   ]
  },
  {
   "cell_type": "markdown",
   "id": "544c8863-b088-4480-8fba-eb04ce86bbe3",
   "metadata": {},
   "source": [
    "# in , not in"
   ]
  },
  {
   "cell_type": "code",
   "execution_count": 16,
   "id": "2bd600a4-6c9a-4785-a6a9-f663ea550852",
   "metadata": {},
   "outputs": [
    {
     "data": {
      "text/plain": [
       "True"
      ]
     },
     "execution_count": 16,
     "metadata": {},
     "output_type": "execute_result"
    }
   ],
   "source": [
    "1 in [1,2,3]"
   ]
  },
  {
   "cell_type": "code",
   "execution_count": 17,
   "id": "84fd6116-2b0a-4525-aff0-fe74b3b7f1a7",
   "metadata": {},
   "outputs": [
    {
     "data": {
      "text/plain": [
       "False"
      ]
     },
     "execution_count": 17,
     "metadata": {},
     "output_type": "execute_result"
    }
   ],
   "source": [
    "4 in [1,2,3]"
   ]
  },
  {
   "cell_type": "code",
   "execution_count": 19,
   "id": "061214a2-7b35-402c-9f77-74ac531cb5e9",
   "metadata": {},
   "outputs": [
    {
     "name": "stdout",
     "output_type": "stream",
     "text": [
      "택시를 타고가라\n"
     ]
    }
   ],
   "source": [
    "pocket = ['key', 'notebook', 'money']\n",
    "if 'money' in pocket :\n",
    "    print('택시를 타고가라')\n",
    "else :\n",
    "    print('걸어가라')"
   ]
  },
  {
   "cell_type": "markdown",
   "id": "9fee8731-55d2-4c22-b806-568c2e6f5c52",
   "metadata": {},
   "source": [
    "### 조건문에서 아무일도 하지않게 설정하려면?"
   ]
  },
  {
   "cell_type": "code",
   "execution_count": 20,
   "id": "b2d21b3b-e70c-49c8-8fca-a7aa23fd2955",
   "metadata": {},
   "outputs": [],
   "source": [
    "pocket = ['paper', 'money', 'cellphone']\n",
    "if 'money' in pocket:\n",
    "     pass \n",
    "else:\n",
    "     print(\"카드를 꺼내라\")"
   ]
  },
  {
   "cell_type": "markdown",
   "id": "b37e3836-c44c-48f4-9924-52bb63007a9b",
   "metadata": {},
   "source": [
    "## 다양한 조건을 판단하는 elif"
   ]
  },
  {
   "cell_type": "code",
   "execution_count": 23,
   "id": "5482a058-9a7f-484d-8e24-03b9b86dee40",
   "metadata": {},
   "outputs": [],
   "source": [
    "#주머니에 돈이 있으면 택시를 타고 가고, 주머니에 돈은 없지만 카드가 있으면 택시를 타고 가고, 돈도 없고 카드도 없으면 걸어가라."
   ]
  },
  {
   "cell_type": "code",
   "execution_count": 32,
   "id": "d95a7319-f92c-4942-aec3-5a08bbbc6b09",
   "metadata": {},
   "outputs": [
    {
     "name": "stdout",
     "output_type": "stream",
     "text": [
      "택시를 타고가라\n"
     ]
    }
   ],
   "source": [
    "pocket = ['paper', 'money', 'cellphone']\n",
    "card = True\n",
    "\n",
    "if 'money' in pocket:\n",
    "    print('택시를 타고가라') \n",
    "else:\n",
    "     if card :\n",
    "         print(\"카드로 택시를 타라\")\n",
    "     else :\n",
    "         print('걸어가라')"
   ]
  },
  {
   "cell_type": "code",
   "execution_count": 33,
   "id": "57859677-91ed-428c-b75c-6d49043ae1b6",
   "metadata": {},
   "outputs": [],
   "source": [
    "# 조건부 표현식"
   ]
  },
  {
   "cell_type": "code",
   "execution_count": 37,
   "id": "9d0dc5f1-bf7f-4b71-a11d-9a47242435f2",
   "metadata": {},
   "outputs": [
    {
     "name": "stdout",
     "output_type": "stream",
     "text": [
      "success\n"
     ]
    }
   ],
   "source": [
    "score = 88\n",
    "if score >= 60:\n",
    "    message = \"success\"\n",
    "else:\n",
    "    message = \"failure\"\n",
    "print(message)"
   ]
  },
  {
   "cell_type": "code",
   "execution_count": 38,
   "id": "fba42d32-9c98-495d-a388-5c6377cb2072",
   "metadata": {},
   "outputs": [
    {
     "name": "stdout",
     "output_type": "stream",
     "text": [
      "success\n"
     ]
    }
   ],
   "source": [
    "message = \"success\" if score>= 60 else \"failure\"\n",
    "print(message)"
   ]
  },
  {
   "cell_type": "markdown",
   "id": "201a8f6c-699c-4a87-8532-65910cfa7fd4",
   "metadata": {},
   "source": [
    "# while 조건문"
   ]
  },
  {
   "cell_type": "markdown",
   "id": "3f2a21df-1b2e-4173-97c9-a013c7f14cf2",
   "metadata": {},
   "source": [
    "- 열번찍어 안넘어가는 나무 없다"
   ]
  },
  {
   "cell_type": "code",
   "execution_count": 39,
   "id": "e07f163a-7308-4d1e-8a20-7550b1bd6c57",
   "metadata": {},
   "outputs": [
    {
     "name": "stdout",
     "output_type": "stream",
     "text": [
      "나무를 1번 찍었습니다.\n",
      "나무를 2번 찍었습니다.\n",
      "나무를 3번 찍었습니다.\n",
      "나무를 4번 찍었습니다.\n",
      "나무를 5번 찍었습니다.\n",
      "나무를 6번 찍었습니다.\n",
      "나무를 7번 찍었습니다.\n",
      "나무를 8번 찍었습니다.\n",
      "나무를 9번 찍었습니다.\n",
      "나무를 10번 찍었습니다.\n",
      "나무 넘어갑니다.\n"
     ]
    }
   ],
   "source": [
    "treeHit = 0\n",
    "while treeHit < 10:\n",
    "      treeHit = treeHit +1\n",
    "      print(\"나무를 %d번 찍었습니다.\" % treeHit)\n",
    "      if treeHit == 10:\n",
    "         print(\"나무 넘어갑니다.\")"
   ]
  },
  {
   "cell_type": "markdown",
   "id": "c8d8fcd1-1edb-4e15-8fef-06528b5d3ec6",
   "metadata": {},
   "source": [
    "## while 문 만들기"
   ]
  },
  {
   "cell_type": "code",
   "execution_count": 41,
   "id": "d09c9b49-5536-463f-a59f-87adbffb7f21",
   "metadata": {},
   "outputs": [],
   "source": [
    "prompt = \"\"\"\n",
    "1. ADD\n",
    "2. DELETE\n",
    "3. LIST\n",
    "4. QUIT\n",
    "Enter number : ****\n",
    "\"\"\""
   ]
  },
  {
   "cell_type": "code",
   "execution_count": 43,
   "id": "1e6eb5c9-bba7-474c-9710-798121b03d83",
   "metadata": {},
   "outputs": [
    {
     "name": "stdout",
     "output_type": "stream",
     "text": [
      "\n",
      "1. ADD\n",
      "2. DELETE\n",
      "3. LIST\n",
      "4. QUIT\n",
      "Enter number : ****\n",
      "\n"
     ]
    }
   ],
   "source": [
    "print(prompt)"
   ]
  },
  {
   "cell_type": "code",
   "execution_count": 45,
   "id": "6bbd1538-95c3-4dda-bca5-f51c70e314e4",
   "metadata": {},
   "outputs": [
    {
     "name": "stdout",
     "output_type": "stream",
     "text": [
      "\n",
      "1. ADD\n",
      "2. DELETE\n",
      "3. LIST\n",
      "4. QUIT\n",
      "Enter number : ****\n",
      "\n"
     ]
    },
    {
     "name": "stdin",
     "output_type": "stream",
     "text": [
      " 3\n"
     ]
    },
    {
     "name": "stdout",
     "output_type": "stream",
     "text": [
      "\n",
      "1. ADD\n",
      "2. DELETE\n",
      "3. LIST\n",
      "4. QUIT\n",
      "Enter number : ****\n",
      "\n"
     ]
    },
    {
     "name": "stdin",
     "output_type": "stream",
     "text": [
      " 1\n"
     ]
    },
    {
     "name": "stdout",
     "output_type": "stream",
     "text": [
      "\n",
      "1. ADD\n",
      "2. DELETE\n",
      "3. LIST\n",
      "4. QUIT\n",
      "Enter number : ****\n",
      "\n"
     ]
    },
    {
     "name": "stdin",
     "output_type": "stream",
     "text": [
      " 4\n"
     ]
    }
   ],
   "source": [
    "number = 0\n",
    "while number != 4:\n",
    "    print(prompt)\n",
    "    number = int(input())"
   ]
  },
  {
   "cell_type": "markdown",
   "id": "97abd458-1f15-4e81-af4b-8007f42288d0",
   "metadata": {},
   "source": [
    "# while 문 강제로 빠져나가기 #break"
   ]
  },
  {
   "cell_type": "code",
   "execution_count": 47,
   "id": "42f64ce7-77e6-4146-a6f2-635119c98031",
   "metadata": {},
   "outputs": [
    {
     "name": "stdout",
     "output_type": "stream",
     "text": [
      "돈을 받았으니 커피를 줍니다.\n",
      "남은 커피의 양은 9 입니다\n",
      "돈을 받았으니 커피를 줍니다.\n",
      "남은 커피의 양은 8 입니다\n",
      "돈을 받았으니 커피를 줍니다.\n",
      "남은 커피의 양은 7 입니다\n",
      "돈을 받았으니 커피를 줍니다.\n",
      "남은 커피의 양은 6 입니다\n",
      "돈을 받았으니 커피를 줍니다.\n",
      "남은 커피의 양은 5 입니다\n",
      "돈을 받았으니 커피를 줍니다.\n",
      "남은 커피의 양은 4 입니다\n",
      "돈을 받았으니 커피를 줍니다.\n",
      "남은 커피의 양은 3 입니다\n",
      "돈을 받았으니 커피를 줍니다.\n",
      "남은 커피의 양은 2 입니다\n",
      "돈을 받았으니 커피를 줍니다.\n",
      "남은 커피의 양은 1 입니다\n",
      "돈을 받았으니 커피를 줍니다.\n",
      "남은 커피의 양은 0 입니다\n",
      "커피가 다 떨어졌습니다. 판매를 중지합니다.\n"
     ]
    }
   ],
   "source": [
    "coffee = 10\n",
    "money = 300\n",
    "while money :\n",
    "    print(\"돈을 받았으니 커피를 줍니다.\")\n",
    "    coffee = coffee-1\n",
    "    print(\"남은 커피의 양은 %d 입니다\" %coffee)\n",
    "    if coffee == 0 :\n",
    "        print(\"커피가 다 떨어졌습니다. 판매를 중지합니다.\")\n",
    "        break"
   ]
  },
  {
   "cell_type": "markdown",
   "id": "88c034cf-82bf-4768-bdb1-e340e3f7464b",
   "metadata": {},
   "source": [
    "# QUIZ 머니를 사용자가 입력하고 커피가격은 300원입니다. 커피 가격이 일치않으면 잔돈을 거슬러줍니다. 커피재고가 떨어지면 종료합니다. "
   ]
  },
  {
   "cell_type": "code",
   "execution_count": null,
   "id": "b70c68a8-e509-476c-8b15-37bc2706541d",
   "metadata": {},
   "outputs": [],
   "source": [
    "coffee = 10\n",
    "while True : \n",
    "    money = int(input(\"돈을 넣어주세요 : \"))\n",
    "    if money == 300 :\n",
    "        print(\"커피를 줍니다.\")\n",
    "        coffee= coffee-1\n",
    "    elif money >= 300 :\n",
    "        print(\"거스름돈 %원을 주고, 커피를 줍니다.\"% (money-300))\n",
    "        coffee = coffee -1\n",
    "    else:\n",
    "        print(\"돈을 다시 돌려주고, 커피를 주지 않습니다.\")\n",
    "        print(\"남은 양은 %d 개입니다\" % coffee)\n",
    "    if coffee == 0 :\n",
    "        print(\"커피가 다 떨어졌습니다. 판매를 중지합니다.\")\n",
    "        break"
   ]
  },
  {
   "cell_type": "markdown",
   "id": "82544e1c-3704-45fd-870a-4c674a2a6423",
   "metadata": {},
   "source": [
    "# For loop 반복문"
   ]
  },
  {
   "cell_type": "code",
   "execution_count": 2,
   "id": "eb5eb5e1-933e-4ba5-b573-9ae40475eba7",
   "metadata": {},
   "outputs": [
    {
     "name": "stdout",
     "output_type": "stream",
     "text": [
      "one\n",
      "two\n",
      "three\n"
     ]
    }
   ],
   "source": [
    "# 전형적인 for문\n",
    "test_list = ['one', 'two', 'three']\n",
    "for i in test_list: \n",
    "    print(i)"
   ]
  },
  {
   "cell_type": "code",
   "execution_count": 3,
   "id": "5c5860e6-cb64-4299-9e3c-4a735a0b0cdd",
   "metadata": {},
   "outputs": [
    {
     "name": "stdout",
     "output_type": "stream",
     "text": [
      "1 2\n",
      "3 4\n",
      "5 6\n"
     ]
    }
   ],
   "source": [
    "a = [(1,2), (3,4), (5,6)]\n",
    "for (first, last) in a :\n",
    "    print(first, last)\n",
    "\n",
    "#요소가 3개임. 튜플요소. 파이써닉한 특"
   ]
  },
  {
   "cell_type": "code",
   "execution_count": 5,
   "id": "b1d130f4-6c66-4dd0-9253-2e26e6850158",
   "metadata": {},
   "outputs": [
    {
     "name": "stdout",
     "output_type": "stream",
     "text": [
      "합격\n",
      "불합격\n",
      "합격\n",
      "불합격\n",
      "합격\n"
     ]
    }
   ],
   "source": [
    "#총 5명의 학생이 시험을 보았는데 시험 점수가 60점 이상이면 합격이고 \n",
    "#그렇지 않으면 불합격이다. 합격인지, 불합격인지 결과를 보여 주시오.\n",
    "marks = [90, 25, 67, 45, 80]\n",
    "number = 0\n",
    "\n",
    "for mark in marks :\n",
    "    number = number +1\n",
    "    if mark >= 60 :\n",
    "        print(\"합격\")\n",
    "    else: \n",
    "        print(\"불합격\")"
   ]
  },
  {
   "cell_type": "code",
   "execution_count": 7,
   "id": "69fc0cc3-2d0c-42a7-8bc8-c4cd701fe524",
   "metadata": {},
   "outputs": [
    {
     "name": "stdout",
     "output_type": "stream",
     "text": [
      "1번 학생은 90점으로 합격입니다\n",
      "2번 학생은 25점으로 불합격입니다\n",
      "3번 학생은 67점으로 합격입니다\n",
      "4번 학생은 45점으로 불합격입니다\n",
      "5번 학생은 80점으로 합격입니다\n"
     ]
    }
   ],
   "source": [
    "marks = [90, 25, 67, 45, 80]\n",
    "number = 0\n",
    "\n",
    "for mark in marks :\n",
    "    number = number +1\n",
    "    if mark >= 60 :\n",
    "        print(\"%d번 학생은 %d점으로 합격입니다\"% (number,mark))\n",
    "    else: \n",
    "        print(\"%d번 학생은 %d점으로 불합격입니다\" %(number,mark))"
   ]
  },
  {
   "cell_type": "markdown",
   "id": "a641807b-c79c-4789-bb05-48fa88868360",
   "metadata": {},
   "source": [
    "# for / continue"
   ]
  },
  {
   "cell_type": "code",
   "execution_count": 8,
   "id": "e1d06766-cfa1-420c-8435-8ef0855b037d",
   "metadata": {},
   "outputs": [
    {
     "name": "stdout",
     "output_type": "stream",
     "text": [
      "1 학생은 90점으로 합격, 축하합니다\n",
      "3 학생은 67점으로 합격, 축하합니다\n",
      "5 학생은 80점으로 합격, 축하합니다\n"
     ]
    }
   ],
   "source": [
    "#앞에서 for 문 응용 예제를 그대로 사용해서 60점 이상인 사람에게는 축하 메시지를 보내고 나머지 사람에게는 아무런 메시지도 전하지 않는 프로그램을 IDLE 에디터로 작성해 보자.\n",
    "\n",
    "marks = [90, 25, 67, 45, 80]\n",
    "number = 0\n",
    "for mark in marks :\n",
    "    number = number +1\n",
    "    if mark >= 60 :\n",
    "        print(\"%d 학생은 %d점으로 합격, 축하합니다\"%(number,mark))\n",
    "    else :\n",
    "        continue"
   ]
  },
  {
   "cell_type": "markdown",
   "id": "15d059f3-82a9-4dd0-bbad-2d183f309160",
   "metadata": {},
   "source": [
    "# for / range"
   ]
  },
  {
   "cell_type": "code",
   "execution_count": 10,
   "id": "b516d1e8-0d5a-4267-8832-5181f6ecdbe5",
   "metadata": {},
   "outputs": [
    {
     "data": {
      "text/plain": [
       "\u001b[1;31mInit signature:\u001b[0m \u001b[0mrange\u001b[0m\u001b[1;33m(\u001b[0m\u001b[0mself\u001b[0m\u001b[1;33m,\u001b[0m \u001b[1;33m/\u001b[0m\u001b[1;33m,\u001b[0m \u001b[1;33m*\u001b[0m\u001b[0margs\u001b[0m\u001b[1;33m,\u001b[0m \u001b[1;33m**\u001b[0m\u001b[0mkwargs\u001b[0m\u001b[1;33m)\u001b[0m\u001b[1;33m\u001b[0m\u001b[1;33m\u001b[0m\u001b[0m\n",
       "\u001b[1;31mDocstring:\u001b[0m     \n",
       "range(stop) -> range object\n",
       "range(start, stop[, step]) -> range object\n",
       "\n",
       "Return an object that produces a sequence of integers from start (inclusive)\n",
       "to stop (exclusive) by step.  range(i, j) produces i, i+1, i+2, ..., j-1.\n",
       "start defaults to 0, and stop is omitted!  range(4) produces 0, 1, 2, 3.\n",
       "These are exactly the valid indices for a list of 4 elements.\n",
       "When step is given, it specifies the increment (or decrement).\n",
       "\u001b[1;31mType:\u001b[0m           type\n",
       "\u001b[1;31mSubclasses:\u001b[0m     "
      ]
     },
     "metadata": {},
     "output_type": "display_data"
    }
   ],
   "source": [
    "range?"
   ]
  },
  {
   "cell_type": "code",
   "execution_count": 11,
   "id": "eecc0160-d89c-485d-ad0d-ce76ba271594",
   "metadata": {},
   "outputs": [
    {
     "data": {
      "text/plain": [
       "range(0, 10)"
      ]
     },
     "execution_count": 11,
     "metadata": {},
     "output_type": "execute_result"
    }
   ],
   "source": [
    "range(10)"
   ]
  },
  {
   "cell_type": "code",
   "execution_count": 15,
   "id": "61e019e5-931d-426a-a6d5-186ef70d5db8",
   "metadata": {},
   "outputs": [
    {
     "name": "stdout",
     "output_type": "stream",
     "text": [
      "0\n",
      "1\n",
      "2\n",
      "3\n",
      "4\n",
      "5\n",
      "6\n",
      "7\n",
      "8\n",
      "9\n"
     ]
    }
   ],
   "source": [
    "for i in range(10) :\n",
    "# 0-9까지\n",
    "  print(i)"
   ]
  },
  {
   "cell_type": "code",
   "execution_count": 17,
   "id": "3fb02d09-7ec0-4075-8c5f-43094d9243ba",
   "metadata": {},
   "outputs": [
    {
     "name": "stdout",
     "output_type": "stream",
     "text": [
      "1\n",
      "2\n",
      "3\n",
      "4\n",
      "5\n",
      "6\n",
      "7\n",
      "8\n",
      "9\n",
      "10\n"
     ]
    }
   ],
   "source": [
    "for i in range(1, 11) :\n",
    "    print (i)\n",
    "# 1-10까지 나옴\n"
   ]
  },
  {
   "cell_type": "code",
   "execution_count": 25,
   "id": "26761821-f2cb-45df-b5ff-01e9d97ac43d",
   "metadata": {},
   "outputs": [
    {
     "name": "stdout",
     "output_type": "stream",
     "text": [
      "1\n",
      "3\n",
      "6\n",
      "10\n",
      "15\n",
      "21\n",
      "28\n",
      "36\n",
      "45\n",
      "55\n"
     ]
    }
   ],
   "source": [
    "sum = 0\n",
    "for i in range(1, 11):\n",
    "    sum += i\n",
    "    print(sum)"
   ]
  },
  {
   "cell_type": "code",
   "execution_count": 30,
   "id": "784cc567-ba79-43dd-a69f-4492d3ccd036",
   "metadata": {},
   "outputs": [
    {
     "name": "stdout",
     "output_type": "stream",
     "text": [
      "2  4  6  8  10  12  14  16  18  \n",
      "3  6  9  12  15  18  21  24  27  \n",
      "4  8  12  16  20  24  28  32  36  \n",
      "5  10  15  20  25  30  35  40  45  \n",
      "6  12  18  24  30  36  42  48  54  \n",
      "7  14  21  28  35  42  49  56  63  \n",
      "8  16  24  32  40  48  56  64  72  \n",
      "9  18  27  36  45  54  63  72  81  \n"
     ]
    }
   ],
   "source": [
    "# 구구단 프로그램\n",
    "for i in range(2,10):\n",
    "    for k in range(1,10):\n",
    "        print(i*k, end=\"  \")\n",
    "    print(\"\")"
   ]
  },
  {
   "cell_type": "markdown",
   "id": "54c17373-e372-4286-a3bb-12e7ce8f610f",
   "metadata": {},
   "source": [
    "# 리스트 컴프리헨션"
   ]
  },
  {
   "cell_type": "code",
   "execution_count": null,
   "id": "ccc816e0-957a-444e-82d4-4cdfd150e2c2",
   "metadata": {},
   "outputs": [],
   "source": [
    "a = [1,2,3,4]\n",
    "result = []\n",
    "for num in a :\n",
    "    result.append(num*3)"
   ]
  },
  {
   "cell_type": "code",
   "execution_count": null,
   "id": "74295224-ed98-4453-8273-d2c55814a659",
   "metadata": {},
   "outputs": [],
   "source": []
  },
  {
   "cell_type": "code",
   "execution_count": null,
   "id": "9adc0d04-96fa-49ea-912a-8676f6c2af2a",
   "metadata": {},
   "outputs": [],
   "source": []
  },
  {
   "cell_type": "code",
   "execution_count": null,
   "id": "c8bdf834-0894-4d10-abc5-8e233f2aeb47",
   "metadata": {},
   "outputs": [],
   "source": []
  },
  {
   "cell_type": "code",
   "execution_count": null,
   "id": "23b1dcb6-943d-466f-a7f1-3d849865cd98",
   "metadata": {},
   "outputs": [],
   "source": []
  },
  {
   "cell_type": "code",
   "execution_count": null,
   "id": "3f781e92-98d3-4550-8cdc-fedde1b31890",
   "metadata": {},
   "outputs": [],
   "source": []
  },
  {
   "cell_type": "code",
   "execution_count": null,
   "id": "c00f759c-31e3-42a3-9366-b7278fbc1694",
   "metadata": {},
   "outputs": [],
   "source": []
  },
  {
   "cell_type": "code",
   "execution_count": null,
   "id": "1b4236cc-cf86-465d-a6a5-c5ad41a2617b",
   "metadata": {},
   "outputs": [],
   "source": []
  },
  {
   "cell_type": "code",
   "execution_count": null,
   "id": "a7b3df43-9df1-4380-a201-7b2f488697d8",
   "metadata": {},
   "outputs": [],
   "source": []
  },
  {
   "cell_type": "code",
   "execution_count": null,
   "id": "66bd4f79-f5c9-4d8b-b14e-f63d6c5d3827",
   "metadata": {},
   "outputs": [],
   "source": []
  },
  {
   "cell_type": "code",
   "execution_count": null,
   "id": "d64aa6a3-f58a-4984-af37-b465d9961216",
   "metadata": {},
   "outputs": [],
   "source": []
  },
  {
   "cell_type": "code",
   "execution_count": null,
   "id": "3ba9cd58-bb3b-491f-9b9f-01cc644daf26",
   "metadata": {},
   "outputs": [],
   "source": []
  },
  {
   "cell_type": "code",
   "execution_count": null,
   "id": "250184ca-4354-44ed-826c-70e7db7ccf54",
   "metadata": {},
   "outputs": [],
   "source": []
  },
  {
   "cell_type": "code",
   "execution_count": null,
   "id": "a33d9380-fc23-498e-8160-4322f6a03b6d",
   "metadata": {},
   "outputs": [],
   "source": []
  },
  {
   "cell_type": "code",
   "execution_count": null,
   "id": "8e7efcd9-6ccf-48e6-8387-2d9bf3681b74",
   "metadata": {},
   "outputs": [],
   "source": []
  },
  {
   "cell_type": "code",
   "execution_count": null,
   "id": "45e8257e-5dda-43ad-ab5f-a68648a6bdc9",
   "metadata": {},
   "outputs": [],
   "source": []
  },
  {
   "cell_type": "code",
   "execution_count": null,
   "id": "726503bf-df72-4386-ba97-ccbe34c27edf",
   "metadata": {},
   "outputs": [],
   "source": []
  },
  {
   "cell_type": "code",
   "execution_count": null,
   "id": "3b974b0e-a90d-4f1c-8bb2-3e274d5024da",
   "metadata": {},
   "outputs": [],
   "source": []
  },
  {
   "cell_type": "code",
   "execution_count": null,
   "id": "6a75dd6c-4314-41b3-93a9-69cf56154944",
   "metadata": {},
   "outputs": [],
   "source": []
  },
  {
   "cell_type": "code",
   "execution_count": null,
   "id": "65a82eb2-1c25-4c92-8788-b731c70a8355",
   "metadata": {},
   "outputs": [],
   "source": []
  }
 ],
 "metadata": {
  "kernelspec": {
   "display_name": "Python 3 (ipykernel)",
   "language": "python",
   "name": "python3"
  },
  "language_info": {
   "codemirror_mode": {
    "name": "ipython",
    "version": 3
   },
   "file_extension": ".py",
   "mimetype": "text/x-python",
   "name": "python",
   "nbconvert_exporter": "python",
   "pygments_lexer": "ipython3",
   "version": "3.11.7"
  }
 },
 "nbformat": 4,
 "nbformat_minor": 5
}
